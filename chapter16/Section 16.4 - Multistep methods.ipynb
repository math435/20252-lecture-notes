{
 "cells": [
  {
   "cell_type": "markdown",
   "metadata": {},
   "source": [
    "---\n",
    "Some useful $\\LaTeX$ commands are defined in this cell:\n",
    "$$\n",
    "\\newcommand{\\abs}[1]{\\left\\lvert#1\\right\\rvert}\n",
    "\\newcommand{\\norm}[1]{\\left\\lVert#1\\right\\rVert}\n",
    "\\newcommand{\\set}[1]{\\left\\{#1\\right\\}}\n",
    "\\newcommand{\\paren}[1]{\\left(#1\\right)}\n",
    "\\newcommand{\\brack}[1]{\\left[#1\\right]}\n",
    "\\newcommand{\\ip}[2]{\\left\\langle#1,#2\\right\\rangle}\n",
    "\\DeclareMathOperator{\\span}{span}\n",
    "\\DeclareMathOperator{\\fl}{fl}\n",
    "\\abs{x}, \\norm{x}, \\set{x}, \\paren{x}, \\brack{x}, \\ip{x}{y}, \\span, \\fl\n",
    "$$\n",
    "\n",
    "---"
   ]
  },
  {
   "cell_type": "markdown",
   "metadata": {},
   "source": [
    "---\n",
    "# 16.4 Multistep methods\n",
    "---"
   ]
  },
  {
   "cell_type": "markdown",
   "metadata": {},
   "source": [
    "We will now look at methods that compute the next point $y_{i+1}$ using information from **$s$ previous points**\n",
    "\n",
    "$$ (t_{i-s+1}, y_{i-s+1}), \\quad \\ldots, \\quad (t_{i-1}, y_{i-1}), \\quad (t_{i}, y_{i}). $$\n",
    "\n",
    "In this section, we define\n",
    "\n",
    "$$f_i = f(t_i, y_i), \\quad i = 0, 1, \\ldots.$$\n",
    "\n",
    "We will **interpolate** the $s$ points \n",
    "\n",
    "$$ (t_{i-s+1}, f_{i-s+1}), \\quad \\ldots, \\quad (t_{i-1}, f_{i-1}), \\quad (t_{i}, f_{i}), $$\n",
    "\n",
    "with a **polynomial**, and use this polynomial approximate the integral in the formula\n",
    "\n",
    "$$y(t_{i+1}) = y(t_i) + \\int_{t_i}^{t_{i+1}} f(t,y(t))\\,dt.$$"
   ]
  },
  {
   "cell_type": "markdown",
   "metadata": {},
   "source": [
    "---"
   ]
  },
  {
   "cell_type": "markdown",
   "metadata": {},
   "source": [
    "## The two-step Adams-Bashforth method\n",
    "\n",
    "If we interpolate the last two points $(t_{i-1},f_{i-1})$ and $(t_{i},f_{i})$ with a straight line, we obtain the interpolating polynomial (in Newton form)\n",
    "\n",
    "$$p_1(t) = f[t_{i-1}] + f[t_{i-1},t_i](t - t_{i-1});$$\n",
    "\n",
    "that is,\n",
    "\n",
    "$$p_1(t) = f_{i-1} + \\frac{f_i - f_{i-1}}{t_i - t_{i-1}}(t - t_{i-1}).$$\n",
    "\n",
    "Simplifying, we have\n",
    "\n",
    "$$\n",
    "p_1(t) = f_{i-1} + \\frac{f_i - f_{i-1}}{h}(t - t_{i-1}).\n",
    "$$"
   ]
  },
  {
   "cell_type": "markdown",
   "metadata": {},
   "source": [
    "Then,\n",
    "\n",
    "$$\n",
    "\\begin{split}\n",
    "\\int_{t_i}^{t_{i+1}} p_1(t)\\,dt \n",
    "&= \\left[f_{i-1}t + \\frac{f_i - f_{i-1}}{2h}(t - t_{i-1})^2\\right]_{t_i}^{t_{i+1}} \\\\\n",
    "&= \\left(f_{i-1}t_{i+1} + \\frac{f_i - f_{i-1}}{2h}(t_{i+1} - t_{i-1})^2\\right) - \\left(f_{i-1}t_i + \\frac{f_i - f_{i-1}}{2h}(t_i - t_{i-1})^2\\right) \\\\\n",
    "&= f_{i-1}(t_{i+1} - t_i) + \\frac{f_i - f_{i-1}}{2h}(2h)^2 - \\frac{f_i - f_{i-1}}{2h} h^2 \\\\\n",
    "&= f_{i-1}h + 2h(f_i - f_{i-1}) - \\frac{h}{2}(f_i - f_{i-1}) \\\\\n",
    "&= h \\left(f_{i-1} + 2f_i - 2f_{i-1} - \\frac{1}{2}f_i + \\frac{1}{2}f_{i-1}\\right) \\\\\n",
    "&= h \\left(\\frac{3}{2}f_i - \\frac{1}{2}f_{i-1}\\right). \\\\\n",
    "\\end{split}\n",
    "$$"
   ]
  },
  {
   "cell_type": "markdown",
   "metadata": {},
   "source": [
    "Therefore, we obtain the **two-step Adams-Bashforth method**:\n",
    "\n",
    "$$y_0 = c_0, \\quad y_1 = c_1, \\quad y_{i+1} = y_i + \\frac{h}{2} (3f_i - f_{i-1}), \\quad i = 1, 2, \\ldots, N-1.$$"
   ]
  },
  {
   "cell_type": "markdown",
   "metadata": {},
   "source": [
    "---"
   ]
  },
  {
   "cell_type": "markdown",
   "metadata": {},
   "source": [
    "## An implementation of the two-step Adams-Bashforth method"
   ]
  },
  {
   "cell_type": "code",
   "execution_count": 1,
   "metadata": {},
   "outputs": [
    {
     "data": {
      "text/plain": [
       "ab2step (generic function with 1 method)"
      ]
     },
     "execution_count": 1,
     "metadata": {},
     "output_type": "execute_result"
    }
   ],
   "source": [
    "function ab2step(f, a, b, y0, N)\n",
    "    \n",
    "    h = (b - a)/N\n",
    "\n",
    "    tt = range(a, b, length=N+1)\n",
    "    yy = zeros(N+1)\n",
    "    ff = zeros(N+1)\n",
    "\n",
    "    yy[1] = y0\n",
    "    ff[1] = f(tt[1], yy[1])\n",
    "        \n",
    "    # Define yy[2] using the RK trapezoidal method\n",
    "    K1 = ff[1]\n",
    "    K2 = f(tt[2], yy[1] + h*K1)\n",
    "    yy[2] = yy[1] + h/2*(K1 + K2)\n",
    "\n",
    "    for i = 2:N\n",
    "        ff[i] = f(tt[i], yy[i])\n",
    "        yy[i+1] = yy[i] + h/2*(3ff[i] - ff[i-1])\n",
    "    end\n",
    "    \n",
    "    tt, yy\n",
    "end"
   ]
  },
  {
   "cell_type": "code",
   "execution_count": 2,
   "metadata": {},
   "outputs": [
    {
     "data": {
      "text/plain": [
       "euler (generic function with 1 method)"
      ]
     },
     "execution_count": 2,
     "metadata": {},
     "output_type": "execute_result"
    }
   ],
   "source": [
    "function euler(f, a, b, y0, N)\n",
    "    \n",
    "    h = (b - a)/N\n",
    "\n",
    "    tt = range(a, b, length=N+1)\n",
    "    yy = zeros(N+1)\n",
    "    yy[1] = y0\n",
    "\n",
    "    for i = 1:N\n",
    "        K1 = f(tt[i], yy[i])\n",
    "        yy[i+1] = yy[i] + h*K1\n",
    "    end\n",
    "    \n",
    "    tt, yy\n",
    "end"
   ]
  },
  {
   "cell_type": "code",
   "execution_count": 3,
   "metadata": {},
   "outputs": [
    {
     "data": {
      "text/plain": [
       "ytrue (generic function with 1 method)"
      ]
     },
     "execution_count": 3,
     "metadata": {},
     "output_type": "execute_result"
    }
   ],
   "source": [
    "#####################################################\n",
    "# Define the ODE and the true solution\n",
    "f(t, y) = -5y + 5t^2 + 2t\n",
    "a, b, y0 = 0, 1, 1\n",
    "ytrue(t) = t.^2 + exp(-5t)"
   ]
  },
  {
   "cell_type": "code",
   "execution_count": 4,
   "metadata": {},
   "outputs": [
    {
     "name": "stdout",
     "output_type": "stream",
     "text": [
      "     N        h        euler      ab2step\n",
      "     1    1e+00     5.01e+00     1.10e+01\n",
      "    10    1e-01     1.33e-01     3.90e-02\n",
      "   100    1e-02     1.07e-02     3.84e-04\n",
      "  1000    1e-03     1.05e-03     3.83e-06\n",
      " 10000    1e-04     1.05e-04     3.83e-08\n"
     ]
    }
   ],
   "source": [
    "using Printf\n",
    "\n",
    "@printf(\"%6s %8s %12s %12s\\n\", \n",
    "    \"N\", \"h\", \"euler\", \"ab2step\")\n",
    "for k = 0:4\n",
    "    N = 10^k\n",
    "    h = (b - a)/N\n",
    "\n",
    "    tt1, yy1 = euler(f, a, b, y0, N)\n",
    "    abserr1 = abs.(yy1 - ytrue.(tt1))\n",
    "    \n",
    "    tt2, yy2 = ab2step(f, a, b, y0, N)\n",
    "    abserr2 = abs.(yy2 - ytrue.(tt2))\n",
    "    \n",
    "    @printf(\"%6d %8.0e %12.2e %12.2e\\n\", \n",
    "        N, h, maximum(abserr1), maximum(abserr2) )\n",
    "end"
   ]
  },
  {
   "cell_type": "code",
   "execution_count": 5,
   "metadata": {},
   "outputs": [
    {
     "data": {
      "image/png": "[encoded data removed]",
      "text/plain": [
       "Figure(PyObject <Figure size 640x480 with 2 Axes>)"
      ]
     },
     "metadata": {},
     "output_type": "display_data"
    }
   ],
   "source": [
    "using PyPlot\n",
    "\n",
    "N = 10\n",
    "\n",
    "tt = range(a, b, length=100)\n",
    "\n",
    "# each method calls f(t,y) N times\n",
    "tt1, yy1 = euler(f, a, b, y0, N)\n",
    "tt2, yy2 = ab2step(f, a, b, y0, N)\n",
    "abserr1 = abs.(yy1 - ytrue.(tt1))\n",
    "abserr2 = abs.(yy2 - ytrue.(tt2))\n",
    "\n",
    "subplot(2, 1, 1)\n",
    "plot(tt, ytrue.(tt), label=\"True solution\")\n",
    "plot(tt1, yy1, \".-g\", label=\"euler approx.\")\n",
    "plot(tt2, yy2, \".-r\", label=\"ab2step approx.\")\n",
    "legend(loc=\"best\")\n",
    "\n",
    "subplot(2, 1, 2)\n",
    "plot(tt1, abserr1, \".-g\", label=\"euler error\")\n",
    "plot(tt2, abserr2, \".-r\", label=\"ab2step error\")\n",
    "legend(loc=\"best\");"
   ]
  },
  {
   "cell_type": "markdown",
   "metadata": {},
   "source": [
    "---"
   ]
  },
  {
   "cell_type": "markdown",
   "metadata": {},
   "source": [
    "## Higher order Adams-Bashforth methods\n",
    "\n",
    "We can similarly obtain the **three-** and **four-step Adams-Bashforth methods**:\n",
    "\n",
    "$$y_{i+1} = y_i + \\frac{h}{12} (23f_i - 16f_{i-1} + 5f_{i-2})$$\n",
    "\n",
    "$$y_{i+1} = y_i + \\frac{h}{24} (55f_i - 59f_{i-1} + 37f_{i-2} - 9f_{i-3})$$\n",
    "\n",
    "In each case, a number of initial values $y_0, y_1, \\ldots$, must be defined before the above formulas can be used.\n",
    "\n",
    "The **one-step Adams-Bashforth method** is simply Euler's method."
   ]
  },
  {
   "cell_type": "code",
   "execution_count": 6,
   "metadata": {},
   "outputs": [
    {
     "data": {
      "text/plain": [
       "ab3step (generic function with 1 method)"
      ]
     },
     "execution_count": 6,
     "metadata": {},
     "output_type": "execute_result"
    }
   ],
   "source": [
    "function ab3step(f, a, b, y0, N)\n",
    "    \n",
    "    h = (b - a)/N\n",
    "\n",
    "    tt = range(a, b, length=N+1)\n",
    "    yy = zeros(N+1)\n",
    "    ff = zeros(N+1)\n",
    "\n",
    "    yy[1] = y0\n",
    "        \n",
    "    # Define yy[2:3] using the RK4 method\n",
    "    for i = 1:2\n",
    "        ff[i] = f(tt[i], yy[i])\n",
    "        K1 = ff[i]\n",
    "        K2 = f(tt[i] + h/2, yy[i] + h/2*K1)\n",
    "        K3 = f(tt[i] + h/2, yy[i] + h/2*K2)\n",
    "        K4 = f(tt[i+1], yy[i] + h*K3)\n",
    "        yy[i+1] = yy[i] + h/6*(K1 + 2K2 + 2K3 + K4)\n",
    "    end\n",
    "    \n",
    "    for i = 3:N\n",
    "        ff[i] = f(tt[i], yy[i])\n",
    "        yy[i+1] = yy[i] + h/12*(23ff[i] - 16ff[i-1] + 5ff[i-2])\n",
    "    end\n",
    "    \n",
    "    tt, yy \n",
    "end"
   ]
  },
  {
   "cell_type": "code",
   "execution_count": 7,
   "metadata": {},
   "outputs": [
    {
     "data": {
      "text/plain": [
       "ab4step (generic function with 1 method)"
      ]
     },
     "execution_count": 7,
     "metadata": {},
     "output_type": "execute_result"
    }
   ],
   "source": [
    "function ab4step(f, a, b, y0, N)\n",
    "    \n",
    "    h = (b - a)/N\n",
    "\n",
    "    tt = range(a, b, length=N+1)\n",
    "    yy = zeros(N+1)\n",
    "    ff = zeros(N+1)\n",
    "\n",
    "    yy[1] = y0\n",
    "        \n",
    "    # Define yy[2:4] using the RK4 method\n",
    "    for i = 1:3\n",
    "        ff[i] = f(tt[i], yy[i])\n",
    "        K1 = ff[i]\n",
    "        K2 = f(tt[i] + h/2, yy[i] + h/2*K1)\n",
    "        K3 = f(tt[i] + h/2, yy[i] + h/2*K2)\n",
    "        K4 = f(tt[i+1], yy[i] + h*K3)\n",
    "        yy[i+1] = yy[i] + h/6*(K1 + 2K2 + 2K3 + K4)\n",
    "    end\n",
    "\n",
    "    for i = 4:N\n",
    "        ff[i] = f(tt[i], yy[i])\n",
    "        yy[i+1] = yy[i] + h/24*(55ff[i] - 59ff[i-1] + 37ff[i-2] - 9ff[i-3])\n",
    "    end\n",
    "    \n",
    "    tt, yy\n",
    "end"
   ]
  },
  {
   "cell_type": "code",
   "execution_count": 8,
   "metadata": {},
   "outputs": [
    {
     "data": {
      "text/plain": [
       "ytrue (generic function with 1 method)"
      ]
     },
     "execution_count": 8,
     "metadata": {},
     "output_type": "execute_result"
    }
   ],
   "source": [
    "#####################################################\n",
    "# Define the ODE and the true solution\n",
    "f(t, y) = -5y + 5t^2 + 2t\n",
    "a, b, y0 = 0, 1, 1\n",
    "ytrue(t) = t^2 + exp(-5t)"
   ]
  },
  {
   "cell_type": "code",
   "execution_count": 9,
   "metadata": {},
   "outputs": [
    {
     "name": "stdout",
     "output_type": "stream",
     "text": [
      "     N        h        euler      ab2step      ab3step      ab4step\n",
      "    10    1e-01     1.33e-01     3.90e-02     1.24e-02     1.27e-02\n",
      "   100    1e-02     1.07e-02     3.84e-04     1.65e-05     7.49e-07\n",
      "  1000    1e-03     1.05e-03     3.83e-06     1.72e-08     7.96e-11\n",
      " 10000    1e-04     1.05e-04     3.83e-08     1.72e-11     7.83e-15\n"
     ]
    }
   ],
   "source": [
    "@printf(\"%6s %8s %12s %12s %12s %12s\\n\", \n",
    "    \"N\", \"h\", \n",
    "    \"euler\", \"ab2step\", \n",
    "    \"ab3step\", \"ab4step\")\n",
    "for k = 1:4\n",
    "    N = 10^k\n",
    "    h = (b - a)/N\n",
    "\n",
    "    tt1, yy1 = euler(f, a, b, y0, N)\n",
    "    abserr1 = abs.(yy1 - ytrue.(tt1))\n",
    "\n",
    "    tt2, yy2 = ab2step(f, a, b, y0, N)\n",
    "    abserr2 = abs.(yy2 - ytrue.(tt2))\n",
    "\n",
    "    tt3, yy3 = ab3step(f, a, b, y0, N)\n",
    "    abserr3 = abs.(yy3 - ytrue.(tt3))\n",
    "    \n",
    "    tt4, yy4 = ab4step(f, a, b, y0, N)\n",
    "    abserr4 = abs.(yy4 - ytrue.(tt4))\n",
    "    \n",
    "    @printf(\"%6d %8.0e %12.2e %12.2e %12.2e %12.2e\\n\",\n",
    "        N, h, \n",
    "        maximum(abserr1), maximum(abserr2), \n",
    "        maximum(abserr3), maximum(abserr4) )\n",
    "end"
   ]
  },
  {
   "cell_type": "code",
   "execution_count": 12,
   "metadata": {},
   "outputs": [
    {
     "data": {
      "image/png": "[encoded data removed]",
      "text/plain": [
       "Figure(PyObject <Figure size 640x480 with 2 Axes>)"
      ]
     },
     "metadata": {},
     "output_type": "display_data"
    }
   ],
   "source": [
    "using PyPlot\n",
    "\n",
    "N = 100\n",
    "\n",
    "tt = range(a, b, length=100)\n",
    "\n",
    "# Each method evaluates f(t,y) N (plus a small number) times\n",
    "tt1, yy1 = euler(f, a, b, y0, N)\n",
    "tt2, yy2 = ab2step(f, a, b, y0, N)\n",
    "tt3, yy3 = ab3step(f, a, b, y0, N)\n",
    "tt4, yy4 = ab4step(f, a, b, y0, N)\n",
    "abserr1 = abs.(yy1 - ytrue.(tt1))\n",
    "abserr2 = abs.(yy2 - ytrue.(tt2))\n",
    "abserr3 = abs.(yy3 - ytrue.(tt3))\n",
    "abserr4 = abs.(yy4 - ytrue.(tt4))\n",
    "\n",
    "subplot(2, 1, 1)\n",
    "plot(tt, ytrue.(tt), label=\"True solution\")\n",
    "#plot(tt1, yy1, \".-g\", label=\"euler approx.\")\n",
    "#plot(tt2, yy2, \".-r\", label=\"ab2step approx.\")\n",
    "plot(tt3, yy3, \".-c\", label=\"ab3step approx.\")\n",
    "plot(tt4, yy4, \".-g\", label=\"ab4step approx.\")\n",
    "legend(loc=\"best\")\n",
    "\n",
    "subplot(2, 1, 2)\n",
    "#plot(tt1, abserr1, \".-g\", label=\"euler error\")\n",
    "#plot(tt2, abserr2, \".-r\", label=\"ab2step error\")\n",
    "plot(tt3, abserr3, \".-c\", label=\"ab3step error\")\n",
    "plot(tt4, abserr4, \".-g\", label=\"ab4step error\")\n",
    "legend(loc=\"best\");"
   ]
  },
  {
   "cell_type": "markdown",
   "metadata": {},
   "source": [
    "---"
   ]
  },
  {
   "cell_type": "markdown",
   "metadata": {},
   "source": [
    "## The implicit Adams-Moulton methods\n",
    "\n",
    "Interpolating the three points $(t_{i-1},f_{i-1})$, $(t_{i},f_{i})$, and $(t_{i+1},f_{i+1})$ with a quadratic polynomial, $p_2(t)$, we will find that\n",
    "\n",
    "$$ \\int_{t_i}^{t_{i+1}} p_2(t)\\,dt = h \\left(\\frac{5}{12} f_{i+1} + \\frac{2}{3} f_i - \\frac{1}{12} f_{i-1}\\right).$$\n",
    "\n",
    "Therefore, we obtain the following **implicit** method\n",
    "\n",
    "$$ y_{i+1} = y_i + \\frac{h}{12}(5 f_{i+1} + 8 f_i - f_{i-1})$$\n",
    "\n",
    "known as the **two-step Adams-Moulton method**."
   ]
  },
  {
   "cell_type": "markdown",
   "metadata": {},
   "source": [
    "We can similarly obtain the implicit **three-step Adams-Moulton method**:\n",
    "\n",
    "$$y_{i+1} = y_i + \\frac{h}{24} (9f_{i+1} + 19f_{i} - 5f_{i-1} + f_{i-2}).$$"
   ]
  },
  {
   "cell_type": "markdown",
   "metadata": {},
   "source": [
    "---"
   ]
  },
  {
   "cell_type": "markdown",
   "metadata": {},
   "source": [
    "## Exercise\n",
    "\n",
    "Implement the implicit **two-step Adams-Moulton method**\n",
    "\n",
    "$$ y_{i+1} = y_i + \\frac{h}{12}(5 f_{i+1} + 8 f_i - f_{i-1})$$\n",
    "\n",
    "for the ODE\n",
    "\n",
    "$$\\frac{dy}{dt} = -5y + 5t^2 + 2t, \\quad 0 \\leq t \\leq 1, \\quad y(0) = 1,$$\n",
    "\n",
    "which has an exact solution of\n",
    "\n",
    "$$y(t) = t^2 + e^{-5t}.$$\n",
    "\n"
   ]
  },
  {
   "attachments": {},
   "cell_type": "markdown",
   "metadata": {},
   "source": [
    "## Solution\n",
    "\n",
    "First we make the substitution $f_{i+1} = f(t_{i+1}, y_{i+1}) = -5y_{i+1} + 5t_{i+1}^2 + 2t_{i+1}$ to obtain\n",
    "\n",
    "$$\n",
    "y_{i+1} = y_i + \\frac{h}{12}(5(-5y_{i+1} + 5t_{i+1}^2 + 2t_{i+1}) + 8f_i - f_{i-1}).\n",
    "$$\n",
    "\n",
    "Simplifying, we obtain\n",
    "\n",
    "$$\n",
    "y_{i+1} = y_i + \\frac{h}{12}(-25y_{i+1} + 25t_{i+1}^2 + 10t_{i+1} + 8f_i - f_{i-1}).\n",
    "$$\n",
    "\n",
    "Moving all the $y_{i+1}$ terms to the left-hand-side, we get\n",
    "\n",
    "$$\n",
    "y_{i+1} + 25\\frac{h}{12}y_{i+1} = y_i + \\frac{h}{12}(25t_{i+1}^2 + 10t_{i+1} + 8f_i - f_{i-1}).\n",
    "$$\n",
    "\n",
    "Simplifying the left-hand-side give us\n",
    "\n",
    "$$\n",
    "\\frac{12 + 25h}{12}y_{i+1} = y_i + \\frac{h}{12}(25t_{i+1}^2 + 10t_{i+1} + 8f_i - f_{i-1}).\n",
    "$$\n",
    "\n",
    "Finally, we solve the equation for $y_{i+1}$ to get\n",
    "\n",
    "$$\n",
    "y_{i+1} = \\frac{12y_i + h(25t_{i+1}^2 + 10t_{i+1} + 8f_i - f_{i-1})}{12 + 25h}.\n",
    "$$"
   ]
  },
  {
   "cell_type": "code",
   "execution_count": 13,
   "metadata": {},
   "outputs": [
    {
     "data": {
      "text/plain": [
       "ytrue (generic function with 1 method)"
      ]
     },
     "execution_count": 13,
     "metadata": {},
     "output_type": "execute_result"
    }
   ],
   "source": [
    "#####################################################\n",
    "# Define the ODE and the true solution\n",
    "f(t, y) = -5y + 5t^2 + 2t\n",
    "a, b, y0 = 0, 1, 1\n",
    "ytrue(t) = t^2 + exp(-5t)"
   ]
  },
  {
   "cell_type": "code",
   "execution_count": 14,
   "metadata": {},
   "outputs": [
    {
     "name": "stdout",
     "output_type": "stream",
     "text": [
      "     N        h      am2step\n",
      "    10    1e-01     1.53e-03\n",
      "   100    1e-02     1.86e-06\n",
      "  1000    1e-03     1.91e-09\n",
      " 10000    1e-04     1.95e-12\n"
     ]
    }
   ],
   "source": [
    "@printf(\"%6s %8s %12s\\n\", \n",
    "    \"N\", \"h\", \"am2step\")\n",
    "for k = 1:4\n",
    "    N = 10^k\n",
    "    h = (b - a)/N\n",
    "    \n",
    "    tt = range(a, b, length=N+1)\n",
    "    yy = zeros(N+1)\n",
    "    ff = zeros(N+1)\n",
    "    \n",
    "    yy[1] = y0\n",
    "    ff[1] = f(tt[1], yy[1])\n",
    "    \n",
    "    # Define yy[2] using the RK4 method\n",
    "    K1 = ff[1]\n",
    "    K2 = f(tt[1] + h/2, yy[1] + h/2*K1)\n",
    "    K3 = f(tt[1] + h/2, yy[1] + h/2*K2)\n",
    "    K4 = f(tt[2], yy[1] + h*K3)\n",
    "    yy[2] = yy[1] + h/6*(K1 + 2K2 + 2K3 + K4)\n",
    "    ff[2] = f(tt[2], yy[2])\n",
    "\n",
    "    for i = 2:N\n",
    "        yy[i+1] = ( 12yy[i] + h*(25tt[i+1]^2 + 10tt[i+1] + 8ff[i] - ff[i-1]) )/(12 + 25h)\n",
    "        ff[i+1] = f(tt[i+1], yy[i+1])\n",
    "    end\n",
    "    \n",
    "    abserr = abs.(yy - ytrue.(tt))\n",
    "    \n",
    "    @printf(\"%6d %8.0e %12.2e\\n\",\n",
    "        N, h, maximum(abserr))\n",
    "end"
   ]
  },
  {
   "cell_type": "markdown",
   "metadata": {},
   "source": [
    "---"
   ]
  },
  {
   "cell_type": "markdown",
   "metadata": {},
   "source": [
    "## General linear multistep method\n",
    "\n",
    "In general, we define $y_{i+1}$ using $s$ previous steps as\n",
    "\n",
    "$$\\sum_{j=0}^s a_j y_{i+1-j} = h \\sum_{j=0}^s b_j f_{i+1-j}.$$\n",
    "\n",
    "The above methods used\n",
    "\n",
    "$$a_0 = 1, \\quad a_1 = -1, \\quad a_2 = \\cdots = a_s = 0.$$\n",
    "\n",
    "The method is **explicit** if $b_0 = 0$; otherwise, if $b_0 \\neq 0$, then the method is **implicit**.\n"
   ]
  },
  {
   "cell_type": "markdown",
   "metadata": {},
   "source": [
    "The **local truncation error** is given by\n",
    "\n",
    "$$d_i = \\frac{1}{h} \\left(\\sum_{j=0}^s a_j y(t_{i+1-j}) \\right) - \\sum_{j=0}^s b_j y'(t_{i+1-j}).$$"
   ]
  },
  {
   "cell_type": "markdown",
   "metadata": {},
   "source": [
    "---"
   ]
  },
  {
   "cell_type": "markdown",
   "metadata": {},
   "source": [
    "> ## Theorem: (Multistep Method Order of Accuracy)\n",
    ">\n",
    "> Let \n",
    ">\n",
    ">\n",
    ">\\begin{align}\n",
    "C_0 &= \\sum_{j=0}^s a_j, \\\\\n",
    "C_i &= (-1)^i \\brack{\\frac{1}{i!} \\sum_{j=1}^s j^i a_j + \\frac{1}{(i-1)!} \\sum_{j=0}^s j^{(i-1)} b_j}, & i &= 1, 2, \\ldots. \n",
    "\\end{align}\n",
    ">\n",
    "> Then the linear multistep method has order $p$ if and only if\n",
    ">\n",
    "> $$C_0 = C_1 = \\cdots = C_p = 0, \\quad C_{p+1} \\neq 0.$$\n",
    ">\n",
    "> Furthermore, the local truncation error is then given by\n",
    ">\n",
    "> $$d_i = C_{p+1} h^p y^{(p+1)}(t_i) + \\mathcal{O}(h^{p+1}).$$"
   ]
  },
  {
   "cell_type": "markdown",
   "metadata": {},
   "source": [
    "---"
   ]
  },
  {
   "cell_type": "markdown",
   "metadata": {},
   "source": [
    "## Order of the two-step Adams-Bashforth method\n",
    "\n",
    "Recall\n",
    "\n",
    "$$y_{i+1} = y_i + \\frac{h}{2} \\left(3f_i - f_{i-1}\\right)$$"
   ]
  },
  {
   "cell_type": "markdown",
   "metadata": {},
   "source": [
    "We obtain this method from the general formula\n",
    "\n",
    "$$\\sum_{j=0}^s a_j y_{i+1-j} = h \\sum_{j=0}^s b_j f_{i+1-j},$$\n",
    "\n",
    "with $s = 2$ and\n",
    "\n",
    "$$\n",
    "\\begin{align}\n",
    "a_0 &= 1, & b_0 &= 0, \\\\\n",
    "a_1 &= -1, & b_1 &= \\frac32,\\\\\n",
    "a_2 &= 0, & b_2 &= -\\frac12.\n",
    "\\end{align}\n",
    "$$"
   ]
  },
  {
   "cell_type": "markdown",
   "metadata": {},
   "source": [
    "Therefore,\n",
    "\n",
    "$$\n",
    "\\begin{align}\n",
    "C_0 &= a_0 + a_1 + a_2 = 0, \\\\\n",
    "C_1 &= -\\brack{\\frac11\\paren{1^1a_1} + \\frac11\\paren{1^0b_1 + 2^0b_2}} = -\\brack{\\frac11(-1) + \\frac11\\paren{\\frac32 - \\frac12}} = 0, \\\\\n",
    "C_2 &= \\brack{\\frac12\\paren{1^2a_1} + \\frac11\\paren{1^1b_1 + 2^1b_2}} = \\brack{\\frac12(-1) + \\frac11\\paren{\\frac32 - 2\\frac12}} = 0, \\\\\n",
    "C_3 &= -\\brack{\\frac16\\paren{1^3a_1} + \\frac12\\paren{1^2b_1 + 2^2b_2}} = -\\brack{\\frac16(-1) + \\frac12\\paren{\\frac32 - 4\\frac12}} = \\frac{5}{12}.\\\\\n",
    "\\end{align}\n",
    "$$"
   ]
  },
  {
   "cell_type": "markdown",
   "metadata": {},
   "source": [
    "Thus, the order of accuracy of the two-step Adams-Bashforth method is $\\mathcal{O}(h^2)$ and\n",
    "\n",
    "$$d_i = \\frac{5}{12} h^2 y'''(t_i) + \\mathcal{O}(h^3).$$"
   ]
  },
  {
   "cell_type": "markdown",
   "metadata": {},
   "source": [
    "---"
   ]
  },
  {
   "cell_type": "markdown",
   "metadata": {},
   "source": [
    "## Order of the two-step Adams-Moulton method\n",
    "\n",
    "Recall\n",
    "\n",
    "$$ y_{i+1} = y_i + \\frac{h}{12}(5 f_{i+1} + 8 f_i - f_{i-1})$$\n"
   ]
  },
  {
   "cell_type": "markdown",
   "metadata": {},
   "source": [
    "We obtain this method from the general formula\n",
    "\n",
    "$$\\sum_{j=0}^s a_j y_{i+1-j} = h \\sum_{j=0}^s b_j f_{i+1-j},$$\n",
    "\n",
    "with $s = 2$ and\n",
    "\n",
    "$$\n",
    "\\begin{align}\n",
    "a_0 &= 1, & b_0 &= \\frac{5}{12}, \\\\\n",
    "a_1 &= -1, & b_1 &= \\frac{2}{3},\\\\\n",
    "a_2 &= 0, & b_2 &= -\\frac{1}{12}.\n",
    "\\end{align}\n",
    "$$"
   ]
  },
  {
   "cell_type": "markdown",
   "metadata": {},
   "source": [
    "Therefore,\n",
    "\n",
    "$$\n",
    "\\begin{align}\n",
    "C_0 &= a_0 + a_1 + a_2 = 0, \\\\\n",
    "C_1 &= -\\brack{\\frac11\\paren{1^1a_1} + \\frac11\\paren{0^0b_0 + 1^0b_1 + 2^0b_2}} = -\\brack{\\frac11(-1) + \\frac11\\paren{\\frac{5}{12} + \\frac23 - \\frac{1}{12}}} = 0, \\\\\n",
    "C_2 &= \\brack{\\frac12\\paren{1^2a_1} + \\frac11\\paren{0^1b_0 + 1^1b_1 + 2^1b_2}} = \\brack{\\frac12(-1) + \\frac11\\paren{0\\frac{5}{12} + 1\\frac23 - 2\\frac{1}{12}}} = 0, \\\\\n",
    "C_3 &= -\\brack{\\frac16\\paren{1^3a_1} + \\frac12\\paren{0^2b_0 + 1^2b_1 + 2^2b_2}} = -\\brack{\\frac16(-1) + \\frac12\\paren{0\\frac{5}{12} + 1\\frac23 - 4\\frac{1}{12}}} = 0, \\\\\n",
    "C_4 &= \\brack{\\frac{1}{24}\\paren{1^4a_1} + \\frac16\\paren{0^3b_0 + 1^3b_1 + 2^3b_2}} = \\brack{\\frac{1}{24}(-1) + \\frac16\\paren{0\\frac{5}{12} + 1\\frac23 - 8\\frac{1}{12}}} = -\\frac{1}{24}, \\\\\n",
    "\\end{align}\n",
    "$$"
   ]
  },
  {
   "cell_type": "markdown",
   "metadata": {},
   "source": [
    "Thus, the order of accuracy of the two-step Adams-Moulton method is $\\mathcal{O}(h^3)$ and\n",
    "\n",
    "$$d_i = -\\frac{1}{24} h^3 y^{(4)}(t_i) + \\mathcal{O}(h^4).$$"
   ]
  },
  {
   "cell_type": "markdown",
   "metadata": {},
   "source": [
    "---"
   ]
  },
  {
   "cell_type": "markdown",
   "metadata": {},
   "source": [
    "## Backward differentiation formulas (BDF)\n",
    "\n",
    "Now we consider interpolating the $s$ points \n",
    "\n",
    "$$ (t_{i-s+1}, y_{i-s+1}), \\quad \\ldots, \\quad (t_{i}, y_{i}), \\quad (t_{i+1}, y_{i+1}), $$\n",
    "\n",
    "with a polynomial, and use this polynomial approximate the derivative in the formula\n",
    "\n",
    "$$y'(t_{i+1}) = f(t_{i+1}, y(t_{i+1})).$$"
   ]
  },
  {
   "cell_type": "markdown",
   "metadata": {},
   "source": [
    "---"
   ]
  },
  {
   "cell_type": "markdown",
   "metadata": {},
   "source": [
    "## The two-step BDF method\n",
    "\n",
    "If we interpolate the points $(t_{i-1},y_{i-1})$, $(t_{i},y_{i})$, and $(t_{i+1},y_{i+1})$ with a quadratic, we obtain the interpolating polynomial \n",
    "\n",
    "$$p_2(t) = y[t_{i-1}] + y[t_{i-1},t_i](t - t_{i-1}) + y[t_{i-1},t_i,t_{i+1}](t - t_{i-1})(t - t_i);$$\n",
    "\n",
    "that is,\n",
    "\n",
    "$$p_2(t) = y_{i-1} + \\frac{y_i - y_{i-1}}{h}(t - t_{i-1}) + \\frac{y_{i-1} - 2y_i + y_{i+1}}{2h^2}(t - t_{i-1})(t - t_i).$$"
   ]
  },
  {
   "cell_type": "markdown",
   "metadata": {},
   "source": [
    "Therefore,\n",
    "\n",
    "$$p_2'(t) = \\frac{y_i - y_{i-1}}{h} + \\frac{y_{i-1} - 2y_i + y_{i+1}}{2h^2}(2t - t_{i-1} - t_i),$$\n",
    "\n",
    "and so\n",
    "\n",
    "$$\n",
    "\\begin{align}\n",
    "p_2'(t_{i+1}) \n",
    "&= \\frac{y_i - y_{i-1}}{h} + \\frac{y_{i-1} - 2y_i + y_{i+1}}{2h^2}(2t_{i+1} - t_{i-1} - t_i)\\\\\n",
    "&= \\frac{y_i - y_{i-1}}{h} + \\frac{y_{i-1} - 2y_i + y_{i+1}}{2h^2}(3h)\\\\\n",
    "&= \\frac{1}{h}\\left(y_i - y_{i-1} + \\frac{3}{2}(y_{i-1} - 2y_i + y_{i+1})\\right)\\\\\n",
    "&= \\frac{1}{h}\\left(\\frac12y_{i-1} -2y_i + \\frac{3}{2}y_{i+1}\\right).\\\\\n",
    "\\end{align}\n",
    "$$"
   ]
  },
  {
   "cell_type": "markdown",
   "metadata": {},
   "source": [
    "Now we replace $y'(t_{i+1})$ with $p_2'(t_{i+1})$ in the formula\n",
    "\n",
    "$$y'(t_{i+1}) = f(t_{i+1}, y(t_{i+1}))$$\n",
    "\n",
    "to obtain\n",
    "\n",
    "$$\\frac{1}{h}\\left(\\frac12y_{i-1} -2y_i + \\frac{3}{2}y_{i+1}\\right) = f_{i+1}.$$\n",
    "\n",
    "Rearranging, we obtain the implicit **two-step BDF**\n",
    "\n",
    "$$y_{i+1}  - \\frac43y_i + \\frac13y_{i-1} = \\frac23hf_{i+1},$$\n",
    "\n",
    "which can be shown to have order of accuracy $\\mathcal{O}(h^2)$.\n"
   ]
  },
  {
   "cell_type": "markdown",
   "metadata": {},
   "source": [
    "---"
   ]
  },
  {
   "cell_type": "markdown",
   "metadata": {},
   "source": [
    "## Higher order BDFs\n",
    "\n",
    "- Three-step $\\mathcal{O}(h^3)$ BDF:\n",
    "\n",
    "    $$y_{i+1} - \\frac{18}{11}y_i + \\frac{9}{11}y_{i-1} - \\frac{2}{11}y_{i-2} = \\frac{6}{11}hf_{i+1}$$\n",
    "    \n",
    "    which is obtained by interpolating $(t_{i-2},y_{i-2})$, $(t_{i-1},y_{i-1})$, $(t_{i},y_{i})$, $(t_{i+1},y_{i+1})$.\n",
    "    \n",
    "- Four-step $\\mathcal{O}(h^4)$ BDF:\n",
    "\n",
    "    $$y_{i+1} - \\frac{48}{25}y_i + \\frac{36}{25}y_{i-1} - \\frac{16}{25}y_{i-2} + \\frac{3}{25}y_{i-3} = \\frac{12}{25}hf_{i+1}$$\n",
    "\n",
    "    which is obtained by interpolating $(t_{i-3},y_{i-3})$, $(t_{i-2},y_{i-2})$, $(t_{i-1},y_{i-1})$, $(t_{i},y_{i})$, $(t_{i+1},y_{i+1})$.\n"
   ]
  },
  {
   "cell_type": "markdown",
   "metadata": {},
   "source": [
    "---"
   ]
  },
  {
   "cell_type": "markdown",
   "metadata": {},
   "source": [
    "## Predictor-corrector methods\n",
    "\n",
    "The implicit formulas we have seen have very nice properties, but are difficult to use. Here we will see an easy way to use these implicit formulas.\n",
    "\n",
    "Consider, for example the **three-step Adams-Moulton method**:\n",
    "\n",
    "$$y_{i+1} = y_i + \\frac{h}{24} \\paren{9f(t_{i+1},y_{i+1}) + 19f_{i} - 5f_{i-1} + f_{i-2}}.$$\n",
    "\n",
    "Instead of solving this equation for $y_{i+1}$, we can use this formula as a **fixed-point iteration** starting from a good estimation for $y(t_{i+1})$."
   ]
  },
  {
   "cell_type": "markdown",
   "metadata": {},
   "source": [
    "## The PECE method\n",
    "\n",
    "We can easily compute such a **predicted** value $y^p_{i+1}$ using the corresponding **four-step Adams-Bashforth method**:\n",
    "\n",
    "$$y^p_{i+1} = y_i + \\frac{h}{24} \\paren{55f_i - 59f_{i-1} + 37f_{i-2} - 9f_{i-3}}.$$\n",
    "\n",
    "Then we **evaluate**\n",
    "\n",
    "$$f^p_{i+1} = f(t_{i+1},y^p_{i+1})$$\n",
    "\n",
    "and compute a **corrected** value using _one fixed-point iteration_,\n",
    "\n",
    "$$y_{i+1} = y_i + \\frac{h}{24} \\paren{9f^p_{i+1} + 19f_{i} - 5f_{i-1} + f_{i-2}},$$\n",
    "\n",
    "and finally **evaluate**\n",
    "\n",
    "$$f_{i+1} = f(t_{i+1},y_{i+1}).$$\n",
    "\n",
    "This gives us the **Adams PECE (Predict-Evaluate-Correct-Evaluate) method**."
   ]
  },
  {
   "cell_type": "markdown",
   "metadata": {},
   "source": [
    "---"
   ]
  },
  {
   "cell_type": "markdown",
   "metadata": {},
   "source": [
    "## An implementation of the fourth-order PECE method"
   ]
  },
  {
   "cell_type": "code",
   "execution_count": 15,
   "metadata": {},
   "outputs": [
    {
     "data": {
      "text/plain": [
       "pece4 (generic function with 1 method)"
      ]
     },
     "execution_count": 15,
     "metadata": {},
     "output_type": "execute_result"
    }
   ],
   "source": [
    "function pece4(f, a, b, y0, N)\n",
    "    \n",
    "    h = (b - a)/N\n",
    "\n",
    "    tt = range(a, b, length=N+1)\n",
    "    yy = zeros(N+1)\n",
    "    ff = zeros(N+1)\n",
    "\n",
    "    yy[1] = y0\n",
    "    ff[1] = f(tt[1], yy[1])\n",
    "\n",
    "        \n",
    "    # Define yy[2:4] using the RK4 method\n",
    "    for i = 1:3\n",
    "        K1 = ff[i]\n",
    "        K2 = f(tt[i] + h/2, yy[i] + h/2*K1)\n",
    "        K3 = f(tt[i] + h/2, yy[i] + h/2*K2)\n",
    "        K4 = f(tt[i+1], yy[i] + h*K3)\n",
    "        yy[i+1] = yy[i] + h/6*(K1 + 2K2 + 2K3 + K4)\n",
    "        ff[i+1] = f(tt[i+1], yy[i+1])\n",
    "    end\n",
    "\n",
    "    for i = 4:N\n",
    "        # Predict using four-step Adams-Bashforth\n",
    "        yp = yy[i] + h/24*(55ff[i] - 59ff[i-1] + 37ff[i-2] - 9ff[i-3])\n",
    "        \n",
    "        # Evaluate\n",
    "        fp = f(tt[i+1], yp)\n",
    "        \n",
    "        # Correct using three-step Adams-Moulton\n",
    "        yy[i+1] = yy[i] + h/24*(9fp + 19ff[i] - 5ff[i-1] + ff[i-2])\n",
    "        \n",
    "        # Evaluate\n",
    "        ff[i+1] = f(tt[i+1], yy[i+1])\n",
    "    end\n",
    "    \n",
    "    tt, yy\n",
    "end"
   ]
  },
  {
   "cell_type": "code",
   "execution_count": 16,
   "metadata": {},
   "outputs": [
    {
     "data": {
      "text/plain": [
       "ytrue (generic function with 1 method)"
      ]
     },
     "execution_count": 16,
     "metadata": {},
     "output_type": "execute_result"
    }
   ],
   "source": [
    "#####################################################\n",
    "# Define the ODE and the true solution\n",
    "f(t, y) = -5y + 5t^2 + 2t\n",
    "a, b, y0 = 0, 1, 1\n",
    "ytrue(t) = t^2 + exp(-5t)"
   ]
  },
  {
   "cell_type": "code",
   "execution_count": 17,
   "metadata": {},
   "outputs": [
    {
     "name": "stdout",
     "output_type": "stream",
     "text": [
      "     N        h      ab4step        pece4\n",
      "    10    1e-01     1.27e-02     1.15e-03\n",
      "   100    1e-02     7.49e-07     6.68e-08\n",
      "  1000    1e-03     7.96e-11     6.13e-12\n",
      " 10000    1e-04     7.83e-15     1.44e-15\n"
     ]
    }
   ],
   "source": [
    "@printf(\"%6s %8s %12s %12s\\n\", \n",
    "    \"N\", \"h\", \"ab4step\", \"pece4\")\n",
    "for k = 1:4\n",
    "    N = 10^k\n",
    "    h = (b - a)/N\n",
    "\n",
    "    tt1, yy1 = ab4step(f, a, b, y0, N)\n",
    "    abserr1 = abs.(yy1 - ytrue.(tt1))\n",
    "\n",
    "    tt2, yy2 = pece4(f, a, b, y0, N)\n",
    "    abserr2 = abs.(yy2 - ytrue.(tt2))\n",
    "    \n",
    "    @printf(\"%6d %8.0e %12.2e %12.2e\\n\",\n",
    "        N, h, maximum(abserr1), maximum(abserr2))\n",
    "end"
   ]
  },
  {
   "cell_type": "code",
   "execution_count": 18,
   "metadata": {},
   "outputs": [
    {
     "data": {
      "image/png": "[encoded data removed]",
      "text/plain": [
       "Figure(PyObject <Figure size 640x480 with 2 Axes>)"
      ]
     },
     "metadata": {},
     "output_type": "display_data"
    }
   ],
   "source": [
    "using PyPlot\n",
    "\n",
    "N = 10\n",
    "\n",
    "tt = range(a, b, length=100)\n",
    "\n",
    "tt1, yy1 = ab4step(f, a, b, y0, N)\n",
    "tt2, yy2 = pece4(f, a, b, y0, N)\n",
    "abserr1 = abs.(yy1 - ytrue.(tt1))\n",
    "abserr2 = abs.(yy2 - ytrue.(tt2))\n",
    "\n",
    "subplot(2, 1, 1)\n",
    "plot(tt, ytrue.(tt), label=\"True solution\")\n",
    "plot(tt1, yy1, \".-g\", label=\"ab4step approx.\")\n",
    "plot(tt2, yy2, \".-r\", label=\"pece4 approx.\")\n",
    "legend(loc=\"best\")\n",
    "\n",
    "subplot(2, 1, 2)\n",
    "plot(tt1, abserr1, \".-g\", label=\"ab4step error\")\n",
    "plot(tt2, abserr2, \".-r\", label=\"pece4 error\")\n",
    "legend(loc=\"best\");"
   ]
  },
  {
   "cell_type": "markdown",
   "metadata": {},
   "source": [
    "---"
   ]
  }
 ],
 "metadata": {
  "@webio": {
   "lastCommId": null,
   "lastKernelId": null
  },
  "kernelspec": {
   "display_name": "Julia 1.11.5",
   "language": "julia",
   "name": "julia-1.11"
  },
  "language_info": {
   "file_extension": ".jl",
   "mimetype": "application/julia",
   "name": "julia",
   "version": "1.11.5"
  }
 },
 "nbformat": 4,
 "nbformat_minor": 4
}
