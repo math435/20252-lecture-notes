{
 "cells": [
  {
   "cell_type": "markdown",
   "metadata": {},
   "source": [
    "---\n",
    "# 10.4 Divided differences and Newton's form\n",
    "---"
   ]
  },
  {
   "cell_type": "markdown",
   "metadata": {},
   "source": [
    "$%%% My LaTeX definitions\n",
    "\\DeclareMathOperator{\\span}{span}\n",
    "\\newcommand{\\Pbf}{\\mathbf{P}}\n",
    "$\n",
    "The Lagrange polynomial basis can be thought of as\n",
    "\n",
    "$$\n",
    "\\phi_j(x) = \\prod_{\\substack{i = 0 \\\\ i \\neq j}}^n (x - x_i), \n",
    "\\quad j = 0,1,\\ldots,n.\n",
    "$$\n",
    "\n",
    "The **Newton polynomial** basis is defined in a very similar way:\n",
    "\n",
    "$$\n",
    "\\phi_j(x) = \\prod_{i = 0}^{j-1} (x - x_i), \n",
    "\\quad j = 0,1,\\ldots,n.\n",
    "$$\n",
    "\n",
    "\n"
   ]
  },
  {
   "cell_type": "markdown",
   "metadata": {},
   "source": [
    "Using the Newton basis, the matrix\n",
    "\n",
    "$$\n",
    "A = \n",
    "\\begin{bmatrix}\n",
    "\\phi_0(x_0) & \\phi_1(x_0) & \\cdots & \\phi_n(x_0)\\\\\n",
    "\\phi_0(x_1) & \\phi_1(x_1) & \\cdots & \\phi_n(x_1)\\\\\n",
    "\\vdots & \\vdots & \\ddots & \\vdots\\\\\n",
    "\\phi_0(x_n) & \\phi_1(x_n) & \\cdots & \\phi_n(x_n)\\\\\n",
    "\\end{bmatrix}\n",
    "$$\n",
    "\n",
    "is **lower-triangular**. This means that we can solve $Ac = y$ using **forward-substitution** in $\\mathcal{O}(n^2)$ flops."
   ]
  },
  {
   "cell_type": "markdown",
   "metadata": {},
   "source": [
    "---"
   ]
  },
  {
   "cell_type": "markdown",
   "metadata": {},
   "source": [
    "## Example\n",
    "\n",
    "The Newton polynomial basis for the data\n",
    "\n",
    "$$\n",
    "\\begin{gather}\n",
    "(x_0,y_0) = (2,1)\\\\\n",
    "(x_1,y_1) = (6,2)\\\\\n",
    "(x_2, y_2) = (4,3)\\\\\n",
    "(x_3, y_3) = (8,2)\\\\\n",
    "\\end{gather}\n",
    "$$\n",
    "\n",
    "is the following set of polynomials\n",
    "\n",
    "$$\n",
    "\\begin{align}\n",
    "\\phi_0(x) & = 1 \\\\\n",
    "\\phi_1(x) & = (x-2) \\\\\n",
    "\\phi_2(x) & = (x-2)(x-6) \\\\\n",
    "\\phi_3(x) & = (x-2)(x-6)(x-4) \\\\\n",
    "\\end{align}\n",
    "$$"
   ]
  },
  {
   "cell_type": "markdown",
   "metadata": {},
   "source": [
    "Using this basis, we find the interpolating polynomial\n",
    "\n",
    "$$p(x) = c_0 \\phi_0(x) + c_1 \\phi_1(x) + c_2 \\phi_2(x) + c_3 \\phi_3(x)$$\n",
    "\n",
    "by solving the linear system $Ac = y$, where\n",
    "\n",
    "$$\n",
    "A = \n",
    "\\begin{bmatrix}\n",
    "\\phi_0(x_0) & \\phi_1(x_0) & \\phi_2(x_0) & \\phi_3(x_0)\\\\\n",
    "\\phi_0(x_1) & \\phi_1(x_1) & \\phi_2(x_1) & \\phi_3(x_1)\\\\\n",
    "\\phi_0(x_2) & \\phi_1(x_2) & \\phi_2(x_2) & \\phi_3(x_2)\\\\\n",
    "\\phi_0(x_3) & \\phi_1(x_3) & \\phi_2(x_3) & \\phi_3(x_3)\\\\\n",
    "\\end{bmatrix} =\n",
    "\\begin{bmatrix}\n",
    "1 & 0 & 0 & 0 \\\\\n",
    "1 & 4 & 0 & 0 \\\\\n",
    "1 & 2 & -4 & 0 \\\\\n",
    "1 & 6 & 12 & 48 \\\\\n",
    "\\end{bmatrix}.\n",
    "$$"
   ]
  },
  {
   "cell_type": "markdown",
   "metadata": {},
   "source": [
    "Thus, $Ac = y$ is as follows.\n",
    "\n",
    "$$\n",
    "\\begin{matrix}\n",
    "c_0 & &       & &       & &       &=& 1 \\\\\n",
    "c_0 &+& 4 c_1 & &       & &       &=& 2 \\\\\n",
    "c_0 &+& 2 c_1 &-& 4c_2  & &       &=& 3 \\\\\n",
    "c_0 &+& 6 c_1 &+& 12c_2 &+& 48c_3 &=& 2 \\\\\n",
    "\\end{matrix}\n",
    "$$"
   ]
  },
  {
   "cell_type": "markdown",
   "metadata": {},
   "source": [
    "We solve this system by forward-substitution:\n",
    "\n",
    "$$\n",
    "\\begin{align}\n",
    "c_0 &= 1 \n",
    "\\\\\n",
    "c_1 &= \\frac{1}{4} (2 - c_0) = \\frac{1}{4} \n",
    "\\\\\n",
    "c_2 &= -\\frac{1}{4}(3 - c_0 - 2 c_1) =  -\\frac38\n",
    "\\\\\n",
    "c_3 &= \\frac{1}{48}(2 - c_0 - 6 c_1 - 12 c_2) = \\frac{1}{12}\n",
    "\\\\\n",
    "\\end{align}\n",
    "$$"
   ]
  },
  {
   "cell_type": "code",
   "execution_count": 1,
   "metadata": {},
   "outputs": [
    {
     "data": {
      "text/plain": [
       "4×4 Matrix{Rational}:\n",
       " 1  0   0   0\n",
       " 1  4   0   0\n",
       " 1  2  -4   0\n",
       " 1  6  12  48"
      ]
     },
     "execution_count": 1,
     "metadata": {},
     "output_type": "execute_result"
    }
   ],
   "source": [
    "xx = [2, 6, 4, 8]\n",
    "yy = [1, 2, 3, 2]\n",
    "\n",
    "# Define A\n",
    "A = Rational[1 0 0 0; 1 4 0 0; 1 2 -4 0; 1 6 12 48]"
   ]
  },
  {
   "cell_type": "code",
   "execution_count": 2,
   "metadata": {},
   "outputs": [
    {
     "data": {
      "text/plain": [
       "4×4 LowerTriangular{Rational, Matrix{Rational}}:\n",
       " 1  ⋅   ⋅   ⋅\n",
       " 1  4   ⋅   ⋅\n",
       " 1  2  -4   ⋅\n",
       " 1  6  12  48"
      ]
     },
     "execution_count": 2,
     "metadata": {},
     "output_type": "execute_result"
    }
   ],
   "source": [
    "using LinearAlgebra\n",
    "\n",
    "A = LowerTriangular(A)"
   ]
  },
  {
   "cell_type": "code",
   "execution_count": 3,
   "metadata": {},
   "outputs": [
    {
     "data": {
      "text/plain": [
       "4-element Vector{Rational}:\n",
       "   1\n",
       "  1//4\n",
       " -3//8\n",
       "  1//12"
      ]
     },
     "execution_count": 3,
     "metadata": {},
     "output_type": "execute_result"
    }
   ],
   "source": [
    "# Solve for the Newton polynomial coefficients\n",
    "cnewt = A\\yy"
   ]
  },
  {
   "cell_type": "code",
   "execution_count": 4,
   "metadata": {},
   "outputs": [],
   "source": [
    "import SymPy"
   ]
  },
  {
   "cell_type": "code",
   "execution_count": 5,
   "metadata": {},
   "outputs": [
    {
     "data": {
      "text/latex": [
       "$x$"
      ],
      "text/plain": [
       "x"
      ]
     },
     "execution_count": 5,
     "metadata": {},
     "output_type": "execute_result"
    }
   ],
   "source": [
    "x = SymPy.symbols(\"x\")"
   ]
  },
  {
   "cell_type": "code",
   "execution_count": 6,
   "metadata": {},
   "outputs": [
    {
     "data": {
      "text/latex": [
       "$\\left[\\begin{smallmatrix}1\\\\x - 2\\\\\\left(x - 6\\right) \\left(x - 2\\right)\\\\\\left(x - 6\\right) \\left(x - 4\\right) \\left(x - 2\\right)\\end{smallmatrix}\\right]$"
      ],
      "text/plain": [
       "4-element Vector{SymPyCore.Sym{PyCall.PyObject}}:\n",
       "                       1\n",
       "                   x - 2\n",
       "         (x - 6)⋅(x - 2)\n",
       " (x - 6)⋅(x - 4)⋅(x - 2)"
      ]
     },
     "execution_count": 6,
     "metadata": {},
     "output_type": "execute_result"
    }
   ],
   "source": [
    "phinewt = [\n",
    "    1\n",
    "    (x - 2)\n",
    "    (x - 2)*(x - 6)\n",
    "    (x - 2)*(x - 6)*(x - 4)\n",
    "    ]"
   ]
  },
  {
   "cell_type": "code",
   "execution_count": 7,
   "metadata": {},
   "outputs": [
    {
     "data": {
      "text/latex": [
       "$\\frac{x}{4} + \\frac{\\left(x - 6\\right) \\left(x - 4\\right) \\left(x - 2\\right)}{12} - \\frac{3 \\left(x - 6\\right) \\left(x - 2\\right)}{8} + \\frac{1}{2}$"
      ],
      "text/plain": [
       "x   (x - 6)⋅(x - 4)⋅(x - 2)   3⋅(x - 6)⋅(x - 2)   1\n",
       "─ + ─────────────────────── - ───────────────── + ─\n",
       "4              12                     8           2"
      ]
     },
     "execution_count": 7,
     "metadata": {},
     "output_type": "execute_result"
    }
   ],
   "source": [
    "px = dot(cnewt, phinewt)"
   ]
  },
  {
   "cell_type": "code",
   "execution_count": 9,
   "metadata": {},
   "outputs": [
    {
     "data": {
      "text/latex": [
       "$\\frac{x^{3}}{12} - \\frac{11 x^{2}}{8} + \\frac{83 x}{12} - 8$"
      ],
      "text/plain": [
       " 3       2           \n",
       "x    11⋅x    83⋅x    \n",
       "── - ───── + ──── - 8\n",
       "12     8      12     "
      ]
     },
     "execution_count": 9,
     "metadata": {},
     "output_type": "execute_result"
    }
   ],
   "source": [
    "SymPy.expand(px)"
   ]
  },
  {
   "cell_type": "markdown",
   "metadata": {},
   "source": [
    "$$\n",
    "p_3(x) = -8 + \\frac{83}{12} x - \\frac{11}{8} x^2 + \\frac{1}{12} x^3\n",
    "$$"
   ]
  },
  {
   "cell_type": "markdown",
   "metadata": {},
   "source": [
    "Thus, the interpolating polynomial is \n",
    "\n",
    "$$\n",
    "p(x) = 1 + \\frac14(x-2) - \\frac38(x-2)(x-6) + \\frac{1}{12}(x-2)(x-6)(x-4)\n",
    "$$"
   ]
  },
  {
   "cell_type": "code",
   "execution_count": 10,
   "metadata": {},
   "outputs": [
    {
     "data": {
      "text/plain": [
       "4-element Vector{Rational{Int64}}:\n",
       "   1\n",
       "  1//4\n",
       " -3//8\n",
       "  1//12"
      ]
     },
     "execution_count": 10,
     "metadata": {},
     "output_type": "execute_result"
    }
   ],
   "source": [
    "using LinearAlgebra\n",
    "\n",
    "########################################\n",
    "function newtinterp(x::Vector, y::Vector)\n",
    "    n = length(x)\n",
    "\n",
    "    # Compute the matrix A corresponding to the Newton basis\n",
    "    A = LowerTriangular([prod([x[i] - x[k] for k=1:j]) for i=1:n, j=0:n-1])\n",
    "\n",
    "    # Solve Ac = y\n",
    "    c = A\\y\n",
    "end\n",
    "########################################\n",
    "\n",
    "x = [2, 6, 4, 8//1]\n",
    "y = [1, 2, 3, 2//1]\n",
    "\n",
    "cnewt = newtinterp(x, y)"
   ]
  },
  {
   "cell_type": "markdown",
   "metadata": {},
   "source": [
    "Let's check that we obtained the same polynomial as before."
   ]
  },
  {
   "cell_type": "code",
   "execution_count": 11,
   "metadata": {},
   "outputs": [
    {
     "data": {
      "text/latex": [
       "$\\frac{x}{4} + \\frac{\\left(x - 6\\right) \\left(x - 4\\right) \\left(x - 2\\right)}{12} - \\frac{3 \\left(x - 6\\right) \\left(x - 2\\right)}{8} + \\frac{1}{2}$"
      ],
      "text/plain": [
       "x   (x - 6)⋅(x - 4)⋅(x - 2)   3⋅(x - 6)⋅(x - 2)   1\n",
       "─ + ─────────────────────── - ───────────────── + ─\n",
       "4              12                     8           2"
      ]
     },
     "execution_count": 11,
     "metadata": {},
     "output_type": "execute_result"
    }
   ],
   "source": [
    "import SymPy\n",
    "using LinearAlgebra\n",
    "\n",
    "x = SymPy.symbols(\"x\")\n",
    "\n",
    "phinewt = [\n",
    "    1,\n",
    "    (x - 2),\n",
    "    (x - 2)*(x - 6),\n",
    "    (x - 2)*(x - 6)*(x - 4)\n",
    "]\n",
    "\n",
    "pnewt = dot(cnewt, phinewt)"
   ]
  },
  {
   "cell_type": "markdown",
   "metadata": {},
   "source": [
    "---"
   ]
  },
  {
   "cell_type": "markdown",
   "metadata": {},
   "source": [
    "## Divided differences\n",
    "\n",
    "Given the data points $\\left\\{(x_i,y_i)\\right\\}_{i=0}^n$, where $y_i = f(x_i)$, the Newton form of the interpolating polynomial can also be written in closed-form as:\n",
    "\n",
    "$$p(x) = \\sum_{j=0}^n c_j \\phi_j(x) = \\sum_{j=0}^n \\left( f[x_0,\\ldots,x_j] \\prod_{i=0}^{j-1}(x-x_i) \\right).$$\n",
    "\n",
    "That is, the coefficient $c_j$ of $\\phi_j(x)$ is the so-called **$j$th divided difference**:\n",
    "\n",
    "$$c_j = f[x_0,\\ldots,x_j].$$\n",
    "\n",
    "Divided differences are defined recursively by\n",
    "\n",
    "$$f[x_i] = f(x_i), \\qquad \\text{for } 1\\leq i \\leq n,$$\n",
    "\n",
    "and\n",
    "\n",
    "$$f[x_i,\\ldots,x_j] = \\frac{f[x_{i+1},\\ldots,x_j] - f[x_i,\\ldots,x_{j-1}]}{x_j - x_i}, \\qquad \\text{for } 1\\leq i < j \\leq n.$$"
   ]
  },
  {
   "cell_type": "markdown",
   "metadata": {},
   "source": [
    "## Computing the divided differences\n",
    "\n",
    "Divided differences can be nicely represented in a table as follows.\n",
    "\n",
    "$$\n",
    "\\begin{array}{c||c|ccccc}\n",
    "i & x_i & f[x_i] & f[x_{i-1},x_i] & f[x_{i-2},x_{i-1},x_i] & \\cdots & f[x_0,\\ldots,x_n] \\\\ \\hline\n",
    "0 & x_0 & f(x_0) \\\\\n",
    "1 & x_1 & f(x_1) & f[x_0,x_1] \\\\\n",
    "2 & x_2 & f(x_2) & f[x_1,x_2] & f[x_0,x_1,x_2] \\\\\n",
    "\\vdots & \\vdots & \\vdots & \\vdots & \\vdots & \\ddots  \\\\\n",
    "n & x_n & f(x_n) & f[x_{n-1},x_n] & f[x_{n-2},x_{n-1},x_n] & \\cdots & f[x_0,\\ldots,x_n] \\\\\n",
    "\\end{array}\n",
    "$$\n",
    "\n",
    "Note that the coefficients $c_j = f[x_0,\\ldots,x_j]$ of the Newton polynomial appear along the diagonal of the table."
   ]
  },
  {
   "cell_type": "markdown",
   "metadata": {},
   "source": [
    "---"
   ]
  },
  {
   "cell_type": "markdown",
   "metadata": {},
   "source": [
    "## Example\n",
    "\n",
    "Let's complete the divided difference table for the data\n",
    "\n",
    "$$\n",
    "\\begin{gather}\n",
    "(x_0,y_0) = (2,1)\\\\\n",
    "(x_1,y_1) = (6,2)\\\\\n",
    "(x_2, y_2) = (4,3)\\\\\n",
    "(x_3, y_3) = (8,2)\\\\\n",
    "\\end{gather}\n",
    "$$"
   ]
  },
  {
   "cell_type": "markdown",
   "metadata": {},
   "source": [
    "\\begin{array}{c|c|cccc}\n",
    "i & x_i & f[\\cdot] & f[\\cdot,\\cdot] & f[\\cdot,\\cdot,\\cdot] & f[\\cdot,\\cdot,\\cdot,\\cdot] \\\\\n",
    "\\hline\n",
    "0 & 2 & 1 &  &  \\\\\n",
    "1 & 6 & 2 & \\frac{2-1}{6-2} &  \\\\\n",
    "2 & 4 & 3 & \\frac{3-2}{4-6} &  & \\\\\n",
    "3 & 8 & 2 & \\frac{2-3}{8-4} &  &  \\\\\n",
    "\\end{array}"
   ]
  },
  {
   "cell_type": "markdown",
   "metadata": {},
   "source": [
    "\\begin{array}{c|c|cccc}\n",
    "i & x_i & f[\\cdot] & f[\\cdot,\\cdot] & f[\\cdot,\\cdot,\\cdot] & f[\\cdot,\\cdot,\\cdot,\\cdot] \\\\\n",
    "\\hline\n",
    "0 & 2 & 1 &  &  \\\\\n",
    "1 & 6 & 2 & \\frac{1}{4} &  \\\\\n",
    "2 & 4 & 3 & -\\frac{1}{2} & \\frac{-\\frac12 - \\frac14}{4-2} & \\\\\n",
    "3 & 8 & 2 & -\\frac{1}{4} & \\frac{-\\frac14 + \\frac12}{8-6} &  \\\\\n",
    "\\end{array}"
   ]
  },
  {
   "cell_type": "markdown",
   "metadata": {},
   "source": [
    "\\begin{array}{c|c|cccc}\n",
    "i & x_i & f[\\cdot] & f[\\cdot,\\cdot] & f[\\cdot,\\cdot,\\cdot] & f[\\cdot,\\cdot,\\cdot,\\cdot] \\\\\n",
    "\\hline\n",
    "0 & 2 & 1 &  &  \\\\\n",
    "1 & 6 & 2 & \\frac{1}{4} &  \\\\\n",
    "2 & 4 & 3 & -\\frac{1}{2} & -\\frac38 & \\\\\n",
    "3 & 8 & 2 & -\\frac{1}{4} & \\frac18 & \\frac{\\frac18 + \\frac38}{8-2} \\\\\n",
    "\\end{array}"
   ]
  },
  {
   "cell_type": "markdown",
   "metadata": {},
   "source": [
    "\\begin{array}{c|c|cccc}\n",
    "i & x_i & f[\\cdot] & f[\\cdot,\\cdot] & f[\\cdot,\\cdot,\\cdot] & f[\\cdot,\\cdot,\\cdot,\\cdot] \\\\\n",
    "\\hline\n",
    "0 & 2 & 1 &  &  \\\\\n",
    "1 & 6 & 2 & \\frac{1}{4} &  \\\\\n",
    "2 & 4 & 3 & -\\frac{1}{2} & -\\frac38 & \\\\\n",
    "3 & 8 & 2 & -\\frac{1}{4} & \\frac18 & \\frac{1}{12} \\\\\n",
    "\\end{array}"
   ]
  },
  {
   "cell_type": "markdown",
   "metadata": {},
   "source": [
    "Thus, the interpolating polynomial is \n",
    "\n",
    "$$\n",
    "p(x) = 1 + \\frac14(x-2) - \\frac38(x-2)(x-6) + \\frac{1}{12}(x-2)(x-6)(x-4).\n",
    "$$\n",
    "\n",
    "Note that the Newton form can be evaluated using a nested approach:\n",
    "\n",
    "$$\n",
    "p(x) = 1 + (x-2)\\Bigg( \\frac14 + (x-6)\\bigg(-\\frac38 + \\frac{1}{12}(x-4)\\bigg) \\Bigg).\n",
    "$$"
   ]
  },
  {
   "cell_type": "markdown",
   "metadata": {},
   "source": [
    "---"
   ]
  },
  {
   "cell_type": "markdown",
   "metadata": {},
   "source": [
    "## Computing the divided differences"
   ]
  },
  {
   "cell_type": "code",
   "execution_count": 12,
   "metadata": {},
   "outputs": [
    {
     "data": {
      "text/plain": [
       "divdif (generic function with 1 method)"
      ]
     },
     "execution_count": 12,
     "metadata": {},
     "output_type": "execute_result"
    }
   ],
   "source": [
    "###############################\n",
    "function divdif(x::Vector{T}, y::Vector{T}) where T<:Union{AbstractFloat,Rational}\n",
    "\n",
    "    n = length(x)\n",
    "    Table = zeros(T, n, n)\n",
    "    \n",
    "    Table[:, 1] = y\n",
    "    for k = 2:n\n",
    "        for i=k:n\n",
    "            Table[i, k] = Table[i, k-1] - Table[i-1, k-1]\n",
    "            Table[i, k] /= x[i] - x[i-k+1]\n",
    "        end\n",
    "    end\n",
    "    \n",
    "    c = diag(Table)\n",
    "    \n",
    "    return c, Table\n",
    "end\n",
    "###############################"
   ]
  },
  {
   "cell_type": "code",
   "execution_count": 13,
   "metadata": {},
   "outputs": [
    {
     "data": {
      "text/plain": [
       "4×4 Matrix{Rational{Int64}}:\n",
       " 1    0      0     0\n",
       " 2   1//4    0     0\n",
       " 3  -1//2  -3//8   0\n",
       " 2  -1//4   1//8  1//12"
      ]
     },
     "execution_count": 13,
     "metadata": {},
     "output_type": "execute_result"
    }
   ],
   "source": [
    "x = [2, 6, 4, 8//1]\n",
    "y = [1, 2, 3, 2//1]\n",
    "c, T = divdif(x, y)\n",
    "T"
   ]
  },
  {
   "cell_type": "code",
   "execution_count": 14,
   "metadata": {},
   "outputs": [
    {
     "data": {
      "text/plain": [
       "evalnewt (generic function with 2 methods)"
      ]
     },
     "execution_count": 14,
     "metadata": {},
     "output_type": "execute_result"
    }
   ],
   "source": [
    "###############################\n",
    "function evalnewt(\n",
    "        xspan::AbstractVector, \n",
    "        x::Vector, \n",
    "        c::Vector)\n",
    "    n = length(x)\n",
    "    \n",
    "    p = c[n]*ones(length(xspan))\n",
    "    for i = 1:length(p)\n",
    "        for j = n-1:-1:1\n",
    "            p[i] *= xspan[i] - x[j]\n",
    "            p[i] += c[j]\n",
    "        end\n",
    "    end\n",
    "    \n",
    "    return p\n",
    "end\n",
    "\n",
    "evalnewt(xx::Real, x::Vector, c::Vector) = evalnewt([xx], x, c)[1]\n",
    "###############################"
   ]
  },
  {
   "cell_type": "code",
   "execution_count": 15,
   "metadata": {},
   "outputs": [
    {
     "data": {
      "text/plain": [
       "4-element Vector{Float64}:\n",
       "  1.0\n",
       "  0.25\n",
       " -0.375\n",
       "  0.08333333333333333"
      ]
     },
     "execution_count": 15,
     "metadata": {},
     "output_type": "execute_result"
    }
   ],
   "source": [
    "xx = [2, 6, 4, 8.]\n",
    "yy = [1, 2, 3, 2.]\n",
    "c, T = divdif(xx, yy)\n",
    "c"
   ]
  },
  {
   "cell_type": "code",
   "execution_count": 16,
   "metadata": {},
   "outputs": [
    {
     "data": {
      "text/plain": [
       "3.0"
      ]
     },
     "execution_count": 16,
     "metadata": {},
     "output_type": "execute_result"
    }
   ],
   "source": [
    "p(x) = evalnewt(x, xx, c)\n",
    "p(4.0)"
   ]
  },
  {
   "cell_type": "code",
   "execution_count": 17,
   "metadata": {},
   "outputs": [
    {
     "data": {
      "image/png": "[encoded data removed]",
      "image/svg+xml": [
       "<?xml version=\"1.0\" encoding=\"utf-8\"?>\n",
       "<svg xmlns=\"http://www.w3.org/2000/svg\" xmlns:xlink=\"http://www.w3.org/1999/xlink\" width=\"600\" height=\"400\" viewBox=\"0 0 2400 1600\">\n",
       "<defs>\n",
       "  <clipPath id=\"clip610\">\n",
       "    <rect x=\"0\" y=\"0\" width=\"2400\" height=\"1600\"/>\n",
       "  </clipPath>\n",
       "</defs>\n",
       "<path clip-path=\"url(#clip610)\" d=\"M0 1600 L2400 1600 L2400 8.88178e-14 L0 8.88178e-14  Z\" fill=\"#ffffff\" fill-rule=\"evenodd\" fill-opacity=\"1\"/>\n",
       "<defs>\n",
       "  <clipPath id=\"clip611\">\n",
       "    <rect x=\"480\" y=\"0\" width=\"1681\" height=\"1600\"/>\n",
       "  </clipPath>\n",
       "</defs>\n",
       "<path clip-path=\"url(#clip610)\" d=\"M210.746 1423.18 L2352.76 1423.18 L2352.76 47.2441 L210.746 47.2441  Z\" fill=\"#ffffff\" fill-rule=\"evenodd\" fill-opacity=\"1\"/>\n",
       "<defs>\n",
       "  <clipPath id=\"clip612\">\n",
       "    <rect x=\"210\" y=\"47\" width=\"2143\" height=\"1377\"/>\n",
       "  </clipPath>\n",
       "</defs>\n",
       "<polyline clip-path=\"url(#clip612)\" style=\"stroke:#000000; stroke-linecap:round; stroke-linejoin:round; stroke-width:2; stroke-opacity:0.1; fill:none\" points=\"523.964,1423.18 523.964,47.2441 \"/>\n",
       "<polyline clip-path=\"url(#clip612)\" style=\"stroke:#000000; stroke-linecap:round; stroke-linejoin:round; stroke-width:2; stroke-opacity:0.1; fill:none\" points=\"1029.16,1423.18 1029.16,47.2441 \"/>\n",
       "<polyline clip-path=\"url(#clip612)\" style=\"stroke:#000000; stroke-linecap:round; stroke-linejoin:round; stroke-width:2; stroke-opacity:0.1; fill:none\" points=\"1534.35,1423.18 1534.35,47.2441 \"/>\n",
       "<polyline clip-path=\"url(#clip612)\" style=\"stroke:#000000; stroke-linecap:round; stroke-linejoin:round; stroke-width:2; stroke-opacity:0.1; fill:none\" points=\"2039.54,1423.18 2039.54,47.2441 \"/>\n",
       "<polyline clip-path=\"url(#clip612)\" style=\"stroke:#000000; stroke-linecap:round; stroke-linejoin:round; stroke-width:2; stroke-opacity:0.1; fill:none\" points=\"210.746,1303.11 2352.76,1303.11 \"/>\n",
       "<polyline clip-path=\"url(#clip612)\" style=\"stroke:#000000; stroke-linecap:round; stroke-linejoin:round; stroke-width:2; stroke-opacity:0.1; fill:none\" points=\"210.746,1086.77 2352.76,1086.77 \"/>\n",
       "<polyline clip-path=\"url(#clip612)\" style=\"stroke:#000000; stroke-linecap:round; stroke-linejoin:round; stroke-width:2; stroke-opacity:0.1; fill:none\" points=\"210.746,870.426 2352.76,870.426 \"/>\n",
       "<polyline clip-path=\"url(#clip612)\" style=\"stroke:#000000; stroke-linecap:round; stroke-linejoin:round; stroke-width:2; stroke-opacity:0.1; fill:none\" points=\"210.746,654.084 2352.76,654.084 \"/>\n",
       "<polyline clip-path=\"url(#clip612)\" style=\"stroke:#000000; stroke-linecap:round; stroke-linejoin:round; stroke-width:2; stroke-opacity:0.1; fill:none\" points=\"210.746,437.742 2352.76,437.742 \"/>\n",
       "<polyline clip-path=\"url(#clip612)\" style=\"stroke:#000000; stroke-linecap:round; stroke-linejoin:round; stroke-width:2; stroke-opacity:0.1; fill:none\" points=\"210.746,221.399 2352.76,221.399 \"/>\n",
       "<polyline clip-path=\"url(#clip610)\" style=\"stroke:#000000; stroke-linecap:round; stroke-linejoin:round; stroke-width:4; stroke-opacity:1; fill:none\" points=\"210.746,1423.18 2352.76,1423.18 \"/>\n",
       "<polyline clip-path=\"url(#clip610)\" style=\"stroke:#000000; stroke-linecap:round; stroke-linejoin:round; stroke-width:4; stroke-opacity:1; fill:none\" points=\"523.964,1423.18 523.964,1404.28 \"/>\n",
       "<polyline clip-path=\"url(#clip610)\" style=\"stroke:#000000; stroke-linecap:round; stroke-linejoin:round; stroke-width:4; stroke-opacity:1; fill:none\" points=\"1029.16,1423.18 1029.16,1404.28 \"/>\n",
       "<polyline clip-path=\"url(#clip610)\" style=\"stroke:#000000; stroke-linecap:round; stroke-linejoin:round; stroke-width:4; stroke-opacity:1; fill:none\" points=\"1534.35,1423.18 1534.35,1404.28 \"/>\n",
       "<polyline clip-path=\"url(#clip610)\" style=\"stroke:#000000; stroke-linecap:round; stroke-linejoin:round; stroke-width:4; stroke-opacity:1; fill:none\" points=\"2039.54,1423.18 2039.54,1404.28 \"/>\n",
       "<path clip-path=\"url(#clip610)\" d=\"M518.617 1481.64 L534.937 1481.64 L534.937 1485.58 L512.992 1485.58 L512.992 1481.64 Q515.654 1478.89 520.238 1474.26 Q524.844 1469.61 526.025 1468.27 Q528.27 1465.74 529.15 1464.01 Q530.052 1462.25 530.052 1460.56 Q530.052 1457.8 528.108 1456.07 Q526.187 1454.33 523.085 1454.33 Q520.886 1454.33 518.432 1455.09 Q516.001 1455.86 513.224 1457.41 L513.224 1452.69 Q516.048 1451.55 518.501 1450.97 Q520.955 1450.39 522.992 1450.39 Q528.363 1450.39 531.557 1453.08 Q534.751 1455.77 534.751 1460.26 Q534.751 1462.39 533.941 1464.31 Q533.154 1466.2 531.048 1468.8 Q530.469 1469.47 527.367 1472.69 Q524.265 1475.88 518.617 1481.64 Z\" fill=\"#000000\" fill-rule=\"nonzero\" fill-opacity=\"1\" /><path clip-path=\"url(#clip610)\" d=\"M1032.16 1455.09 L1020.36 1473.54 L1032.16 1473.54 L1032.16 1455.09 M1030.94 1451.02 L1036.82 1451.02 L1036.82 1473.54 L1041.75 1473.54 L1041.75 1477.43 L1036.82 1477.43 L1036.82 1485.58 L1032.16 1485.58 L1032.16 1477.43 L1016.56 1477.43 L1016.56 1472.92 L1030.94 1451.02 Z\" fill=\"#000000\" fill-rule=\"nonzero\" fill-opacity=\"1\" /><path clip-path=\"url(#clip610)\" d=\"M1534.75 1466.44 Q1531.6 1466.44 1529.75 1468.59 Q1527.92 1470.74 1527.92 1474.49 Q1527.92 1478.22 1529.75 1480.39 Q1531.6 1482.55 1534.75 1482.55 Q1537.9 1482.55 1539.73 1480.39 Q1541.58 1478.22 1541.58 1474.49 Q1541.58 1470.74 1539.73 1468.59 Q1537.9 1466.44 1534.75 1466.44 M1544.03 1451.78 L1544.03 1456.04 Q1542.27 1455.21 1540.47 1454.77 Q1538.69 1454.33 1536.93 1454.33 Q1532.3 1454.33 1529.84 1457.45 Q1527.41 1460.58 1527.07 1466.9 Q1528.43 1464.89 1530.49 1463.82 Q1532.55 1462.73 1535.03 1462.73 Q1540.24 1462.73 1543.25 1465.9 Q1546.28 1469.05 1546.28 1474.49 Q1546.28 1479.82 1543.13 1483.03 Q1539.98 1486.25 1534.75 1486.25 Q1528.76 1486.25 1525.58 1481.67 Q1522.41 1477.06 1522.41 1468.33 Q1522.41 1460.14 1526.3 1455.28 Q1530.19 1450.39 1536.74 1450.39 Q1538.5 1450.39 1540.28 1450.74 Q1542.09 1451.09 1544.03 1451.78 Z\" fill=\"#000000\" fill-rule=\"nonzero\" fill-opacity=\"1\" /><path clip-path=\"url(#clip610)\" d=\"M2039.54 1469.17 Q2036.2 1469.17 2034.28 1470.95 Q2032.38 1472.73 2032.38 1475.86 Q2032.38 1478.98 2034.28 1480.77 Q2036.2 1482.55 2039.54 1482.55 Q2042.87 1482.55 2044.79 1480.77 Q2046.71 1478.96 2046.71 1475.86 Q2046.71 1472.73 2044.79 1470.95 Q2042.89 1469.17 2039.54 1469.17 M2034.86 1467.18 Q2031.85 1466.44 2030.16 1464.38 Q2028.5 1462.32 2028.5 1459.35 Q2028.5 1455.21 2031.44 1452.8 Q2034.4 1450.39 2039.54 1450.39 Q2044.7 1450.39 2047.64 1452.8 Q2050.58 1455.21 2050.58 1459.35 Q2050.58 1462.32 2048.89 1464.38 Q2047.22 1466.44 2044.24 1467.18 Q2047.62 1467.96 2049.49 1470.26 Q2051.39 1472.55 2051.39 1475.86 Q2051.39 1480.88 2048.31 1483.57 Q2045.26 1486.25 2039.54 1486.25 Q2033.82 1486.25 2030.74 1483.57 Q2027.69 1480.88 2027.69 1475.86 Q2027.69 1472.55 2029.58 1470.26 Q2031.48 1467.96 2034.86 1467.18 M2033.15 1459.79 Q2033.15 1462.48 2034.82 1463.98 Q2036.51 1465.49 2039.54 1465.49 Q2042.55 1465.49 2044.24 1463.98 Q2045.95 1462.48 2045.95 1459.79 Q2045.95 1457.11 2044.24 1455.6 Q2042.55 1454.1 2039.54 1454.1 Q2036.51 1454.1 2034.82 1455.6 Q2033.15 1457.11 2033.15 1459.79 Z\" fill=\"#000000\" fill-rule=\"nonzero\" fill-opacity=\"1\" /><path clip-path=\"url(#clip610)\" d=\"M1295.92 1528.8 Q1295.92 1530.61 1294.8 1531.64 Q1293.67 1532.64 1292.38 1532.64 Q1291.16 1532.64 1290.51 1531.93 Q1289.87 1531.22 1289.87 1530.32 Q1289.87 1529.09 1290.77 1528.03 Q1291.67 1526.97 1293.03 1526.74 Q1291.71 1525.91 1289.74 1525.91 Q1288.45 1525.91 1287.33 1526.58 Q1286.23 1527.26 1285.55 1528.13 Q1284.91 1529 1284.33 1530.25 Q1283.78 1531.48 1283.56 1532.22 Q1283.36 1532.93 1283.2 1533.7 L1280.95 1542.72 Q1279.85 1547 1279.85 1548.51 Q1279.85 1550.38 1280.76 1551.64 Q1281.66 1552.86 1283.46 1552.86 Q1284.17 1552.86 1284.97 1552.67 Q1285.78 1552.44 1286.81 1551.86 Q1287.87 1551.25 1288.81 1550.35 Q1289.77 1549.42 1290.71 1547.84 Q1291.64 1546.26 1292.25 1544.23 Q1292.45 1543.52 1293.09 1543.52 Q1293.9 1543.52 1293.9 1544.17 Q1293.9 1544.71 1293.44 1545.87 Q1293.03 1547 1292.09 1548.48 Q1291.19 1549.93 1290 1551.25 Q1288.81 1552.54 1287.04 1553.44 Q1285.26 1554.34 1283.33 1554.34 Q1280.56 1554.34 1278.73 1552.86 Q1276.89 1551.38 1276.21 1549.32 Q1276.05 1549.61 1275.83 1550 Q1275.6 1550.38 1274.93 1551.25 Q1274.28 1552.09 1273.54 1552.73 Q1272.8 1553.34 1271.64 1553.83 Q1270.51 1554.34 1269.29 1554.34 Q1267.74 1554.34 1266.36 1553.89 Q1265.01 1553.44 1264.04 1552.41 Q1263.07 1551.38 1263.07 1549.96 Q1263.07 1548.38 1264.14 1547.29 Q1265.23 1546.16 1266.71 1546.16 Q1267.65 1546.16 1268.39 1546.71 Q1269.16 1547.26 1269.16 1548.45 Q1269.16 1549.77 1268.26 1550.77 Q1267.36 1551.77 1266.07 1552.02 Q1267.39 1552.86 1269.35 1552.86 Q1271.48 1552.86 1273.15 1550.99 Q1274.83 1549.13 1275.63 1546 Q1277.63 1538.5 1278.4 1535.15 Q1279.18 1531.77 1279.18 1530.32 Q1279.18 1528.96 1278.82 1528.03 Q1278.47 1527.1 1277.86 1526.68 Q1277.28 1526.23 1276.73 1526.07 Q1276.21 1525.91 1275.63 1525.91 Q1274.67 1525.91 1273.57 1526.29 Q1272.51 1526.68 1271.22 1527.58 Q1269.97 1528.45 1268.77 1530.25 Q1267.58 1532.06 1266.78 1534.54 Q1266.62 1535.28 1265.91 1535.28 Q1265.14 1535.24 1265.14 1534.6 Q1265.14 1534.05 1265.55 1532.93 Q1266.01 1531.77 1266.91 1530.32 Q1267.84 1528.87 1269.03 1527.58 Q1270.26 1526.26 1272.03 1525.36 Q1273.83 1524.46 1275.76 1524.46 Q1276.63 1524.46 1277.47 1524.65 Q1278.34 1524.81 1279.37 1525.29 Q1280.43 1525.78 1281.37 1526.84 Q1282.3 1527.9 1282.88 1529.45 Q1283.27 1528.71 1283.78 1528 Q1284.33 1527.29 1285.17 1526.42 Q1286.04 1525.52 1287.23 1525 Q1288.45 1524.46 1289.81 1524.46 Q1291.13 1524.46 1292.41 1524.81 Q1293.7 1525.13 1294.8 1526.19 Q1295.92 1527.23 1295.92 1528.8 Z\" fill=\"#000000\" fill-rule=\"nonzero\" fill-opacity=\"1\" /><polyline clip-path=\"url(#clip610)\" style=\"stroke:#000000; stroke-linecap:round; stroke-linejoin:round; stroke-width:4; stroke-opacity:1; fill:none\" points=\"210.746,1423.18 210.746,47.2441 \"/>\n",
       "<polyline clip-path=\"url(#clip610)\" style=\"stroke:#000000; stroke-linecap:round; stroke-linejoin:round; stroke-width:4; stroke-opacity:1; fill:none\" points=\"210.746,1303.11 229.644,1303.11 \"/>\n",
       "<polyline clip-path=\"url(#clip610)\" style=\"stroke:#000000; stroke-linecap:round; stroke-linejoin:round; stroke-width:4; stroke-opacity:1; fill:none\" points=\"210.746,1086.77 229.644,1086.77 \"/>\n",
       "<polyline clip-path=\"url(#clip610)\" style=\"stroke:#000000; stroke-linecap:round; stroke-linejoin:round; stroke-width:4; stroke-opacity:1; fill:none\" points=\"210.746,870.426 229.644,870.426 \"/>\n",
       "<polyline clip-path=\"url(#clip610)\" style=\"stroke:#000000; stroke-linecap:round; stroke-linejoin:round; stroke-width:4; stroke-opacity:1; fill:none\" points=\"210.746,654.084 229.644,654.084 \"/>\n",
       "<polyline clip-path=\"url(#clip610)\" style=\"stroke:#000000; stroke-linecap:round; stroke-linejoin:round; stroke-width:4; stroke-opacity:1; fill:none\" points=\"210.746,437.742 229.644,437.742 \"/>\n",
       "<polyline clip-path=\"url(#clip610)\" style=\"stroke:#000000; stroke-linecap:round; stroke-linejoin:round; stroke-width:4; stroke-opacity:1; fill:none\" points=\"210.746,221.399 229.644,221.399 \"/>\n",
       "<path clip-path=\"url(#clip610)\" d=\"M114.631 1303.56 L144.306 1303.56 L144.306 1307.5 L114.631 1307.5 L114.631 1303.56 Z\" fill=\"#000000\" fill-rule=\"nonzero\" fill-opacity=\"1\" /><path clip-path=\"url(#clip610)\" d=\"M158.427 1316.45 L174.746 1316.45 L174.746 1320.39 L152.802 1320.39 L152.802 1316.45 Q155.464 1313.7 160.047 1309.07 Q164.653 1304.42 165.834 1303.08 Q168.079 1300.55 168.959 1298.82 Q169.862 1297.06 169.862 1295.37 Q169.862 1292.61 167.917 1290.88 Q165.996 1289.14 162.894 1289.14 Q160.695 1289.14 158.241 1289.9 Q155.811 1290.67 153.033 1292.22 L153.033 1287.5 Q155.857 1286.36 158.311 1285.78 Q160.765 1285.2 162.802 1285.2 Q168.172 1285.2 171.366 1287.89 Q174.561 1290.58 174.561 1295.07 Q174.561 1297.2 173.751 1299.12 Q172.964 1301.02 170.857 1303.61 Q170.278 1304.28 167.177 1307.5 Q164.075 1310.69 158.427 1316.45 Z\" fill=\"#000000\" fill-rule=\"nonzero\" fill-opacity=\"1\" /><path clip-path=\"url(#clip610)\" d=\"M114.26 1087.22 L143.936 1087.22 L143.936 1091.15 L114.26 1091.15 L114.26 1087.22 Z\" fill=\"#000000\" fill-rule=\"nonzero\" fill-opacity=\"1\" /><path clip-path=\"url(#clip610)\" d=\"M154.839 1100.11 L162.477 1100.11 L162.477 1073.75 L154.167 1075.41 L154.167 1071.15 L162.431 1069.49 L167.107 1069.49 L167.107 1100.11 L174.746 1100.11 L174.746 1104.05 L154.839 1104.05 L154.839 1100.11 Z\" fill=\"#000000\" fill-rule=\"nonzero\" fill-opacity=\"1\" /><path clip-path=\"url(#clip610)\" d=\"M162.802 856.224 Q159.19 856.224 157.362 859.789 Q155.556 863.331 155.556 870.461 Q155.556 877.567 157.362 881.132 Q159.19 884.673 162.802 884.673 Q166.436 884.673 168.241 881.132 Q170.07 877.567 170.07 870.461 Q170.07 863.331 168.241 859.789 Q166.436 856.224 162.802 856.224 M162.802 852.521 Q168.612 852.521 171.667 857.127 Q174.746 861.711 174.746 870.461 Q174.746 879.187 171.667 883.794 Q168.612 888.377 162.802 888.377 Q156.991 888.377 153.913 883.794 Q150.857 879.187 150.857 870.461 Q150.857 861.711 153.913 857.127 Q156.991 852.521 162.802 852.521 Z\" fill=\"#000000\" fill-rule=\"nonzero\" fill-opacity=\"1\" /><path clip-path=\"url(#clip610)\" d=\"M154.839 667.429 L162.477 667.429 L162.477 641.063 L154.167 642.73 L154.167 638.47 L162.431 636.804 L167.107 636.804 L167.107 667.429 L174.746 667.429 L174.746 671.364 L154.839 671.364 L154.839 667.429 Z\" fill=\"#000000\" fill-rule=\"nonzero\" fill-opacity=\"1\" /><path clip-path=\"url(#clip610)\" d=\"M158.427 451.086 L174.746 451.086 L174.746 455.022 L152.802 455.022 L152.802 451.086 Q155.464 448.332 160.047 443.702 Q164.653 439.049 165.834 437.707 Q168.079 435.184 168.959 433.448 Q169.862 431.688 169.862 429.999 Q169.862 427.244 167.917 425.508 Q165.996 423.772 162.894 423.772 Q160.695 423.772 158.241 424.536 Q155.811 425.3 153.033 426.85 L153.033 422.128 Q155.857 420.994 158.311 420.415 Q160.765 419.837 162.802 419.837 Q168.172 419.837 171.366 422.522 Q174.561 425.207 174.561 429.698 Q174.561 431.827 173.751 433.749 Q172.964 435.647 170.857 438.239 Q170.278 438.911 167.177 442.128 Q164.075 445.323 158.427 451.086 Z\" fill=\"#000000\" fill-rule=\"nonzero\" fill-opacity=\"1\" /><path clip-path=\"url(#clip610)\" d=\"M167.616 220.045 Q170.973 220.763 172.848 223.031 Q174.746 225.3 174.746 228.633 Q174.746 233.749 171.227 236.55 Q167.709 239.351 161.227 239.351 Q159.052 239.351 156.737 238.911 Q154.445 238.494 151.991 237.638 L151.991 233.124 Q153.936 234.258 156.251 234.837 Q158.565 235.416 161.089 235.416 Q165.487 235.416 167.778 233.68 Q170.093 231.943 170.093 228.633 Q170.093 225.578 167.94 223.865 Q165.811 222.129 161.991 222.129 L157.964 222.129 L157.964 218.286 L162.177 218.286 Q165.626 218.286 167.454 216.92 Q169.283 215.531 169.283 212.939 Q169.283 210.277 167.385 208.865 Q165.51 207.43 161.991 207.43 Q160.07 207.43 157.871 207.846 Q155.672 208.263 153.033 209.143 L153.033 204.976 Q155.695 204.235 158.01 203.865 Q160.348 203.494 162.408 203.494 Q167.732 203.494 170.834 205.925 Q173.936 208.332 173.936 212.453 Q173.936 215.323 172.292 217.314 Q170.649 219.281 167.616 220.045 Z\" fill=\"#000000\" fill-rule=\"nonzero\" fill-opacity=\"1\" /><path clip-path=\"url(#clip610)\" d=\"M30.8561 720.775 Q31.307 720.775 32.3698 721.064 L57.5548 727.377 Q63.1586 728.762 67.0877 733.27 Q71.0168 737.747 71.0168 742.836 Q71.0168 745.895 69.3743 747.86 Q67.764 749.824 65.2842 749.824 Q63.0942 749.824 62.0314 748.665 Q61.0008 747.505 61.0008 746.121 Q61.0008 745.67 61.1296 745.187 Q61.2584 744.703 61.8059 744.188 Q62.3534 743.673 63.2874 743.673 Q64.8011 743.673 65.9927 744.993 Q66.5402 745.637 66.669 746.249 Q66.7978 746.829 66.7978 747.827 Q67.6996 747.441 68.3115 746.732 Q68.9234 746.024 69.1489 745.219 Q69.4065 744.414 69.4709 743.898 Q69.5675 743.351 69.5675 742.836 Q69.5675 738.713 65.413 735.557 Q64.157 734.623 62.9009 733.947 Q61.6771 733.238 60.1634 732.723 Q58.682 732.208 57.8768 731.982 Q57.0717 731.725 55.2359 731.274 Q58.2311 734.269 58.2311 737.94 Q58.2311 739.486 57.8124 740.871 Q57.3937 742.224 56.5242 743.415 Q55.6224 744.607 54.0443 745.315 Q52.4662 745.992 50.3728 745.992 Q48.1506 745.992 45.1233 745.122 Q42.0959 744.253 36.5243 742.159 Q33.4004 741.032 31.8867 741.032 Q31.146 741.032 30.6951 741.193 Q30.212 741.354 30.051 741.676 Q29.8577 741.998 29.8255 742.191 Q29.7933 742.352 29.7933 742.675 Q29.7933 744.575 31.7257 746.346 Q33.658 748.117 37.9736 749.341 Q38.7787 749.599 38.972 749.76 Q39.1652 749.921 39.1652 750.404 Q39.133 751.209 38.4889 751.209 Q38.2312 751.209 37.2329 750.919 Q36.2023 750.629 34.6886 749.953 Q33.1427 749.245 31.7579 748.278 Q30.3408 747.312 29.3424 745.798 Q28.344 744.253 28.344 742.481 Q28.344 740.066 29.9221 738.584 Q31.468 737.071 33.7546 737.071 Q34.6886 737.071 35.5259 737.328 Q36.3311 737.554 38.4889 738.391 Q47.1845 741.773 51.4356 741.773 Q52.4662 741.773 53.3358 741.612 Q54.1731 741.418 55.0105 741 Q55.8156 740.581 56.2987 739.744 Q56.7496 738.874 56.7496 737.683 Q56.7496 736.169 56.0411 734.752 Q55.3003 733.303 54.302 732.401 Q53.3036 731.467 52.4662 730.919 Q51.5967 730.34 51.1458 730.211 L39.294 727.248 L34.0123 725.927 Q31.146 725.316 30.4374 725.026 Q29.7611 724.639 29.4068 723.963 Q29.0526 723.287 29.0526 722.707 Q29.0526 721.902 29.5357 721.354 Q30.0187 720.775 30.8561 720.775 Z\" fill=\"#000000\" fill-rule=\"nonzero\" fill-opacity=\"1\" /><polyline clip-path=\"url(#clip612)\" style=\"stroke:#009af9; stroke-linecap:round; stroke-linejoin:round; stroke-width:4; stroke-opacity:1; fill:none\" points=\"271.369,1384.24 276.584,1364.61 281.8,1345.19 287.015,1325.98 292.231,1306.97 307.504,1252.48 322.777,1199.7 338.05,1148.63 353.323,1099.23 368.597,1051.48 383.87,1005.36 399.143,960.842 414.416,917.904 428.626,879.352 442.836,842.128 457.047,806.212 471.257,771.585 490.304,727.159 509.351,684.968 528.398,644.966 547.445,607.105 563.183,577.404 578.922,549.107 594.66,522.189 610.399,496.623 625.034,474.039 639.67,452.581 654.305,432.228 668.941,412.959 687.313,390.27 705.685,369.215 724.058,349.751 742.43,331.836 758.91,317.051 775.391,303.449 791.871,291 808.351,279.674 827.215,268.051 846.078,257.814 864.942,248.92 883.806,241.323 912.007,232.287 940.209,225.898 958.244,223.131 976.279,221.346 994.314,220.504 1012.35,220.564 1045.27,222.875 1078.19,227.825 1115.66,236.364 1153.13,247.659 1182.83,258.336 1212.53,270.347 1286.33,304.827 1342.85,334.383 1422.54,378.147 1482.09,410.635 1515.95,428.413 1549.81,445.361 1583.34,461.07 1616.87,475.457 1653.76,489.455 1690.66,501.208 1718.84,508.464 1747.02,514.064 1782.57,518.534 1818.13,519.825 1834.58,519.264 1851.02,517.928 1867.47,515.788 1883.91,512.815 1900.87,508.843 1917.83,503.92 1934.79,498.013 1951.75,491.088 1968.94,482.999 1986.13,473.797 2003.32,463.448 2020.51,451.919 2038.46,438.583 2056.41,423.883 2074.36,407.782 2092.31,390.24 2106.45,375.381 2120.59,359.585 2134.73,342.832 2148.87,325.105 2164.98,303.708 2181.08,280.993 2197.18,256.934 2213.28,231.502 2229.38,204.668 2245.48,176.406 2261.58,146.686 2277.68,115.482 2281.29,108.273 2284.91,100.987 2288.52,93.6251 2292.13,86.1857 \"/>\n",
       "<circle clip-path=\"url(#clip612)\" cx=\"523.964\" cy=\"654.084\" r=\"14.4\" fill=\"#009af9\" fill-rule=\"evenodd\" fill-opacity=\"1\" stroke=\"#000000\" stroke-opacity=\"1\" stroke-width=\"3.2\"/>\n",
       "<circle clip-path=\"url(#clip612)\" cx=\"1534.35\" cy=\"437.742\" r=\"14.4\" fill=\"#009af9\" fill-rule=\"evenodd\" fill-opacity=\"1\" stroke=\"#000000\" stroke-opacity=\"1\" stroke-width=\"3.2\"/>\n",
       "<circle clip-path=\"url(#clip612)\" cx=\"1029.16\" cy=\"221.399\" r=\"14.4\" fill=\"#009af9\" fill-rule=\"evenodd\" fill-opacity=\"1\" stroke=\"#000000\" stroke-opacity=\"1\" stroke-width=\"3.2\"/>\n",
       "<circle clip-path=\"url(#clip612)\" cx=\"2039.54\" cy=\"437.742\" r=\"14.4\" fill=\"#009af9\" fill-rule=\"evenodd\" fill-opacity=\"1\" stroke=\"#000000\" stroke-opacity=\"1\" stroke-width=\"3.2\"/>\n",
       "<path clip-path=\"url(#clip610)\" d=\"M1888.23 1377.32 L2281.36 1377.32 L2281.36 1273.64 L1888.23 1273.64  Z\" fill=\"#ffffff\" fill-rule=\"evenodd\" fill-opacity=\"1\"/>\n",
       "<polyline clip-path=\"url(#clip610)\" style=\"stroke:#000000; stroke-linecap:round; stroke-linejoin:round; stroke-width:4; stroke-opacity:1; fill:none\" points=\"1888.23,1377.32 2281.36,1377.32 2281.36,1273.64 1888.23,1273.64 1888.23,1377.32 \"/>\n",
       "<polyline clip-path=\"url(#clip610)\" style=\"stroke:#009af9; stroke-linecap:round; stroke-linejoin:round; stroke-width:4; stroke-opacity:1; fill:none\" points=\"1912.03,1325.48 2054.83,1325.48 \"/>\n",
       "<path clip-path=\"url(#clip610)\" d=\"M2100.77 1317.98 Q2100.77 1318.31 2100.56 1319.08 L2095.97 1337.4 Q2094.96 1341.47 2091.68 1344.33 Q2088.42 1347.19 2084.72 1347.19 Q2082.5 1347.19 2081.07 1345.99 Q2079.64 1344.82 2079.64 1343.02 Q2079.64 1341.43 2080.48 1340.65 Q2081.33 1339.9 2082.33 1339.9 Q2082.66 1339.9 2083.01 1340 Q2083.36 1340.09 2083.74 1340.49 Q2084.11 1340.89 2084.11 1341.57 Q2084.11 1342.67 2083.15 1343.53 Q2082.68 1343.93 2082.24 1344.03 Q2081.82 1344.12 2081.09 1344.12 Q2081.37 1344.78 2081.89 1345.22 Q2082.4 1345.67 2082.99 1345.83 Q2083.57 1346.02 2083.95 1346.06 Q2084.35 1346.13 2084.72 1346.13 Q2087.72 1346.13 2090.02 1343.11 Q2090.7 1342.2 2091.19 1341.29 Q2091.7 1340.4 2092.08 1339.29 Q2092.45 1338.22 2092.62 1337.63 Q2092.8 1337.05 2093.13 1335.71 Q2090.95 1337.89 2088.28 1337.89 Q2087.16 1337.89 2086.15 1337.58 Q2085.17 1337.28 2084.3 1336.65 Q2083.43 1335.99 2082.92 1334.84 Q2082.43 1333.7 2082.43 1332.17 Q2082.43 1330.56 2083.06 1328.36 Q2083.69 1326.15 2085.21 1322.1 Q2086.03 1319.83 2086.03 1318.73 Q2086.03 1318.19 2085.92 1317.86 Q2085.8 1317.51 2085.57 1317.39 Q2085.33 1317.25 2085.19 1317.23 Q2085.07 1317.21 2084.84 1317.21 Q2083.46 1317.21 2082.17 1318.61 Q2080.88 1320.02 2079.99 1323.16 Q2079.8 1323.74 2079.69 1323.88 Q2079.57 1324.02 2079.22 1324.02 Q2078.63 1324 2078.63 1323.53 Q2078.63 1323.34 2078.84 1322.62 Q2079.05 1321.87 2079.55 1320.77 Q2080.06 1319.64 2080.76 1318.64 Q2081.47 1317.61 2082.57 1316.88 Q2083.69 1316.15 2084.98 1316.15 Q2086.74 1316.15 2087.81 1317.3 Q2088.91 1318.42 2088.91 1320.09 Q2088.91 1320.77 2088.73 1321.38 Q2088.56 1321.96 2087.95 1323.53 Q2085.5 1329.86 2085.5 1332.95 Q2085.5 1333.7 2085.61 1334.33 Q2085.75 1334.94 2086.06 1335.55 Q2086.36 1336.13 2086.97 1336.48 Q2087.6 1336.81 2088.47 1336.81 Q2089.57 1336.81 2090.6 1336.3 Q2091.66 1335.76 2092.31 1335.03 Q2092.99 1334.31 2093.39 1333.7 Q2093.81 1333.06 2093.9 1332.74 L2096.06 1324.12 L2097.02 1320.28 Q2097.46 1318.19 2097.67 1317.68 Q2097.96 1317.18 2098.45 1316.93 Q2098.94 1316.67 2099.36 1316.67 Q2099.95 1316.67 2100.35 1317.02 Q2100.77 1317.37 2100.77 1317.98 Z\" fill=\"#000000\" fill-rule=\"nonzero\" fill-opacity=\"1\" /><path clip-path=\"url(#clip610)\" d=\"M2115.2 1330.07 Q2115.25 1329.48 2116.16 1329.48 L2145.56 1329.48 Q2146.94 1329.48 2146.96 1330.02 Q2146.96 1330.6 2145.65 1330.58 L2116.49 1330.58 Q2115.2 1330.6 2115.2 1330.07 M2115.2 1320.7 Q2115.2 1320.11 2116.21 1320.13 L2145.51 1320.13 Q2146.94 1320.13 2146.96 1320.7 Q2146.96 1321.24 2145.74 1321.24 L2116.16 1321.24 Q2115.2 1321.24 2115.2 1320.7 Z\" fill=\"#000000\" fill-rule=\"nonzero\" fill-opacity=\"1\" /><path clip-path=\"url(#clip610)\" d=\"M2190.51 1323.81 Q2190.51 1327.23 2188.78 1330.53 Q2187.07 1333.84 2184.38 1335.87 Q2181.68 1337.89 2178.94 1337.89 Q2177.3 1337.89 2176.2 1337 Q2175.13 1336.09 2174.54 1334.8 Q2174.09 1336.39 2173.13 1340.21 Q2172.17 1344.03 2172.17 1344.4 Q2172.17 1344.61 2172.22 1344.7 Q2172.27 1344.8 2172.48 1344.92 Q2172.69 1345.06 2173.2 1345.1 Q2173.72 1345.17 2174.59 1345.17 Q2175.03 1345.17 2175.2 1345.17 Q2175.38 1345.2 2175.55 1345.31 Q2175.73 1345.43 2175.73 1345.69 Q2175.73 1346.65 2174.87 1346.65 Q2174.09 1346.65 2172.5 1346.58 Q2170.91 1346.51 2170.11 1346.51 Q2169.43 1346.51 2168.08 1346.58 Q2166.72 1346.65 2166.08 1346.65 Q2165.45 1346.65 2165.45 1346.09 Q2165.45 1345.76 2165.55 1345.55 Q2165.62 1345.36 2165.8 1345.27 Q2165.99 1345.2 2166.15 1345.17 Q2166.3 1345.17 2166.58 1345.17 Q2167.65 1345.17 2168.12 1344.99 Q2168.59 1344.82 2168.75 1344.47 Q2168.94 1344.14 2169.15 1343.21 L2174.54 1321.84 Q2174.87 1320.42 2174.87 1319.41 Q2174.87 1318.14 2174.47 1317.68 Q2174.07 1317.21 2173.37 1317.21 Q2172.15 1317.21 2171.35 1318.66 Q2170.56 1320.11 2169.88 1322.92 Q2169.67 1323.7 2169.53 1323.86 Q2169.41 1324.02 2169.06 1324.02 Q2168.47 1324 2168.47 1323.53 Q2168.47 1323.41 2168.66 1322.66 Q2168.85 1321.89 2169.2 1320.77 Q2169.57 1319.62 2169.97 1318.89 Q2170.21 1318.4 2170.42 1318.07 Q2170.63 1317.75 2171.05 1317.23 Q2171.49 1316.72 2172.13 1316.43 Q2172.76 1316.15 2173.53 1316.15 Q2175.03 1316.15 2176.27 1317.04 Q2177.51 1317.93 2177.84 1319.74 Q2179.18 1318.17 2180.82 1317.16 Q2182.46 1316.15 2184.12 1316.15 Q2186.88 1316.15 2188.69 1318.31 Q2190.51 1320.44 2190.51 1323.81 M2187.05 1321.7 Q2187.05 1319.57 2186.23 1318.4 Q2185.43 1317.21 2183.98 1317.21 Q2182.18 1317.21 2180.09 1319.03 Q2178.03 1320.77 2177.61 1322.38 L2175.24 1331.78 L2175.1 1332.55 Q2175.1 1332.69 2175.17 1333.11 Q2175.27 1333.51 2175.52 1334.16 Q2175.8 1334.82 2176.18 1335.41 Q2176.58 1335.97 2177.28 1336.39 Q2178.01 1336.81 2178.9 1336.81 Q2180.33 1336.81 2181.87 1335.55 Q2183.44 1334.28 2184.61 1331.89 Q2185.34 1330.35 2186.18 1327.02 Q2187.05 1323.67 2187.05 1321.7 Z\" fill=\"#000000\" fill-rule=\"nonzero\" fill-opacity=\"1\" /><path clip-path=\"url(#clip610)\" d=\"M2195.87 1325.36 Q2195.87 1317.25 2198.89 1310.72 Q2200.18 1307.98 2201.98 1305.68 Q2203.79 1303.39 2204.98 1302.38 Q2206.17 1301.37 2206.5 1301.37 Q2206.97 1301.37 2206.99 1301.84 Q2206.99 1302.08 2206.36 1302.66 Q2198.63 1310.53 2198.66 1325.36 Q2198.66 1340.23 2206.17 1347.8 Q2206.99 1348.62 2206.99 1348.87 Q2206.99 1349.34 2206.5 1349.34 Q2206.17 1349.34 2205.03 1348.38 Q2203.88 1347.42 2202.1 1345.22 Q2200.32 1343.02 2199.03 1340.32 Q2195.87 1333.79 2195.87 1325.36 Z\" fill=\"#000000\" fill-rule=\"nonzero\" fill-opacity=\"1\" /><path clip-path=\"url(#clip610)\" d=\"M2234.53 1319.32 Q2234.53 1320.63 2233.71 1321.38 Q2232.89 1322.1 2231.95 1322.1 Q2231.06 1322.1 2230.59 1321.59 Q2230.12 1321.07 2230.12 1320.42 Q2230.12 1319.53 2230.78 1318.75 Q2231.44 1317.98 2232.42 1317.82 Q2231.46 1317.21 2230.03 1317.21 Q2229.09 1317.21 2228.27 1317.7 Q2227.48 1318.19 2226.99 1318.82 Q2226.52 1319.46 2226.1 1320.37 Q2225.7 1321.26 2225.53 1321.8 Q2225.39 1322.31 2225.28 1322.88 L2223.64 1329.43 Q2222.84 1332.55 2222.84 1333.65 Q2222.84 1335.01 2223.5 1335.92 Q2224.15 1336.81 2225.46 1336.81 Q2225.98 1336.81 2226.56 1336.67 Q2227.15 1336.51 2227.9 1336.09 Q2228.67 1335.64 2229.35 1334.98 Q2230.05 1334.31 2230.73 1333.16 Q2231.41 1332.01 2231.86 1330.53 Q2232 1330.02 2232.47 1330.02 Q2233.05 1330.02 2233.05 1330.49 Q2233.05 1330.89 2232.72 1331.73 Q2232.42 1332.55 2231.74 1333.63 Q2231.08 1334.68 2230.22 1335.64 Q2229.35 1336.58 2228.06 1337.23 Q2226.77 1337.89 2225.37 1337.89 Q2223.35 1337.89 2222.02 1336.81 Q2220.68 1335.73 2220.19 1334.24 Q2220.08 1334.45 2219.91 1334.73 Q2219.75 1335.01 2219.26 1335.64 Q2218.79 1336.25 2218.25 1336.72 Q2217.71 1337.16 2216.87 1337.51 Q2216.05 1337.89 2215.16 1337.89 Q2214.03 1337.89 2213.03 1337.56 Q2212.04 1337.23 2211.34 1336.48 Q2210.64 1335.73 2210.64 1334.7 Q2210.64 1333.56 2211.41 1332.76 Q2212.21 1331.94 2213.28 1331.94 Q2213.96 1331.94 2214.5 1332.34 Q2215.06 1332.74 2215.06 1333.6 Q2215.06 1334.56 2214.41 1335.29 Q2213.75 1336.02 2212.81 1336.2 Q2213.78 1336.81 2215.2 1336.81 Q2216.75 1336.81 2217.97 1335.45 Q2219.19 1334.09 2219.77 1331.82 Q2221.22 1326.37 2221.79 1323.93 Q2222.35 1321.47 2222.35 1320.42 Q2222.35 1319.43 2222.09 1318.75 Q2221.83 1318.07 2221.39 1317.77 Q2220.97 1317.44 2220.57 1317.32 Q2220.19 1317.21 2219.77 1317.21 Q2219.07 1317.21 2218.27 1317.49 Q2217.5 1317.77 2216.56 1318.42 Q2215.65 1319.06 2214.78 1320.37 Q2213.92 1321.68 2213.33 1323.48 Q2213.21 1324.02 2212.7 1324.02 Q2212.14 1324 2212.14 1323.53 Q2212.14 1323.13 2212.44 1322.31 Q2212.77 1321.47 2213.42 1320.42 Q2214.1 1319.36 2214.97 1318.42 Q2215.86 1317.46 2217.15 1316.81 Q2218.46 1316.15 2219.86 1316.15 Q2220.5 1316.15 2221.11 1316.29 Q2221.74 1316.41 2222.49 1316.76 Q2223.26 1317.11 2223.94 1317.89 Q2224.62 1318.66 2225.04 1319.78 Q2225.32 1319.24 2225.7 1318.73 Q2226.1 1318.21 2226.7 1317.58 Q2227.34 1316.93 2228.2 1316.55 Q2229.09 1316.15 2230.08 1316.15 Q2231.04 1316.15 2231.97 1316.41 Q2232.91 1316.64 2233.71 1317.42 Q2234.53 1318.17 2234.53 1319.32 Z\" fill=\"#000000\" fill-rule=\"nonzero\" fill-opacity=\"1\" /><path clip-path=\"url(#clip610)\" d=\"M2239.14 1348.87 Q2239.14 1348.64 2239.75 1348.05 Q2247.48 1340.18 2247.48 1325.36 Q2247.48 1310.48 2240.05 1302.97 Q2239.14 1302.1 2239.14 1301.84 Q2239.14 1301.37 2239.61 1301.37 Q2239.94 1301.37 2241.08 1302.33 Q2242.26 1303.29 2244.01 1305.5 Q2245.79 1307.7 2247.1 1310.39 Q2250.27 1316.93 2250.27 1325.36 Q2250.27 1333.46 2247.24 1340 Q2245.96 1342.74 2244.15 1345.03 Q2242.35 1347.33 2241.15 1348.34 Q2239.96 1349.34 2239.61 1349.34 Q2239.14 1349.34 2239.14 1348.87 Z\" fill=\"#000000\" fill-rule=\"nonzero\" fill-opacity=\"1\" /></svg>\n"
      ],
      "text/html": [
       "<?xml version=\"1.0\" encoding=\"utf-8\"?>\n",
       "<svg xmlns=\"http://www.w3.org/2000/svg\" xmlns:xlink=\"http://www.w3.org/1999/xlink\" width=\"600\" height=\"400\" viewBox=\"0 0 2400 1600\">\n",
       "<defs>\n",
       "  <clipPath id=\"clip660\">\n",
       "    <rect x=\"0\" y=\"0\" width=\"2400\" height=\"1600\"/>\n",
       "  </clipPath>\n",
       "</defs>\n",
       "<path clip-path=\"url(#clip660)\" d=\"M0 1600 L2400 1600 L2400 8.88178e-14 L0 8.88178e-14  Z\" fill=\"#ffffff\" fill-rule=\"evenodd\" fill-opacity=\"1\"/>\n",
       "<defs>\n",
       "  <clipPath id=\"clip661\">\n",
       "    <rect x=\"480\" y=\"0\" width=\"1681\" height=\"1600\"/>\n",
       "  </clipPath>\n",
       "</defs>\n",
       "<path clip-path=\"url(#clip660)\" d=\"M210.746 1423.18 L2352.76 1423.18 L2352.76 47.2441 L210.746 47.2441  Z\" fill=\"#ffffff\" fill-rule=\"evenodd\" fill-opacity=\"1\"/>\n",
       "<defs>\n",
       "  <clipPath id=\"clip662\">\n",
       "    <rect x=\"210\" y=\"47\" width=\"2143\" height=\"1377\"/>\n",
       "  </clipPath>\n",
       "</defs>\n",
       "<polyline clip-path=\"url(#clip662)\" style=\"stroke:#000000; stroke-linecap:round; stroke-linejoin:round; stroke-width:2; stroke-opacity:0.1; fill:none\" points=\"523.964,1423.18 523.964,47.2441 \"/>\n",
       "<polyline clip-path=\"url(#clip662)\" style=\"stroke:#000000; stroke-linecap:round; stroke-linejoin:round; stroke-width:2; stroke-opacity:0.1; fill:none\" points=\"1029.16,1423.18 1029.16,47.2441 \"/>\n",
       "<polyline clip-path=\"url(#clip662)\" style=\"stroke:#000000; stroke-linecap:round; stroke-linejoin:round; stroke-width:2; stroke-opacity:0.1; fill:none\" points=\"1534.35,1423.18 1534.35,47.2441 \"/>\n",
       "<polyline clip-path=\"url(#clip662)\" style=\"stroke:#000000; stroke-linecap:round; stroke-linejoin:round; stroke-width:2; stroke-opacity:0.1; fill:none\" points=\"2039.54,1423.18 2039.54,47.2441 \"/>\n",
       "<polyline clip-path=\"url(#clip662)\" style=\"stroke:#000000; stroke-linecap:round; stroke-linejoin:round; stroke-width:2; stroke-opacity:0.1; fill:none\" points=\"210.746,1303.11 2352.76,1303.11 \"/>\n",
       "<polyline clip-path=\"url(#clip662)\" style=\"stroke:#000000; stroke-linecap:round; stroke-linejoin:round; stroke-width:2; stroke-opacity:0.1; fill:none\" points=\"210.746,1086.77 2352.76,1086.77 \"/>\n",
       "<polyline clip-path=\"url(#clip662)\" style=\"stroke:#000000; stroke-linecap:round; stroke-linejoin:round; stroke-width:2; stroke-opacity:0.1; fill:none\" points=\"210.746,870.426 2352.76,870.426 \"/>\n",
       "<polyline clip-path=\"url(#clip662)\" style=\"stroke:#000000; stroke-linecap:round; stroke-linejoin:round; stroke-width:2; stroke-opacity:0.1; fill:none\" points=\"210.746,654.084 2352.76,654.084 \"/>\n",
       "<polyline clip-path=\"url(#clip662)\" style=\"stroke:#000000; stroke-linecap:round; stroke-linejoin:round; stroke-width:2; stroke-opacity:0.1; fill:none\" points=\"210.746,437.742 2352.76,437.742 \"/>\n",
       "<polyline clip-path=\"url(#clip662)\" style=\"stroke:#000000; stroke-linecap:round; stroke-linejoin:round; stroke-width:2; stroke-opacity:0.1; fill:none\" points=\"210.746,221.399 2352.76,221.399 \"/>\n",
       "<polyline clip-path=\"url(#clip660)\" style=\"stroke:#000000; stroke-linecap:round; stroke-linejoin:round; stroke-width:4; stroke-opacity:1; fill:none\" points=\"210.746,1423.18 2352.76,1423.18 \"/>\n",
       "<polyline clip-path=\"url(#clip660)\" style=\"stroke:#000000; stroke-linecap:round; stroke-linejoin:round; stroke-width:4; stroke-opacity:1; fill:none\" points=\"523.964,1423.18 523.964,1404.28 \"/>\n",
       "<polyline clip-path=\"url(#clip660)\" style=\"stroke:#000000; stroke-linecap:round; stroke-linejoin:round; stroke-width:4; stroke-opacity:1; fill:none\" points=\"1029.16,1423.18 1029.16,1404.28 \"/>\n",
       "<polyline clip-path=\"url(#clip660)\" style=\"stroke:#000000; stroke-linecap:round; stroke-linejoin:round; stroke-width:4; stroke-opacity:1; fill:none\" points=\"1534.35,1423.18 1534.35,1404.28 \"/>\n",
       "<polyline clip-path=\"url(#clip660)\" style=\"stroke:#000000; stroke-linecap:round; stroke-linejoin:round; stroke-width:4; stroke-opacity:1; fill:none\" points=\"2039.54,1423.18 2039.54,1404.28 \"/>\n",
       "<path clip-path=\"url(#clip660)\" d=\"M518.617 1481.64 L534.937 1481.64 L534.937 1485.58 L512.992 1485.58 L512.992 1481.64 Q515.654 1478.89 520.238 1474.26 Q524.844 1469.61 526.025 1468.27 Q528.27 1465.74 529.15 1464.01 Q530.052 1462.25 530.052 1460.56 Q530.052 1457.8 528.108 1456.07 Q526.187 1454.33 523.085 1454.33 Q520.886 1454.33 518.432 1455.09 Q516.001 1455.86 513.224 1457.41 L513.224 1452.69 Q516.048 1451.55 518.501 1450.97 Q520.955 1450.39 522.992 1450.39 Q528.363 1450.39 531.557 1453.08 Q534.751 1455.77 534.751 1460.26 Q534.751 1462.39 533.941 1464.31 Q533.154 1466.2 531.048 1468.8 Q530.469 1469.47 527.367 1472.69 Q524.265 1475.88 518.617 1481.64 Z\" fill=\"#000000\" fill-rule=\"nonzero\" fill-opacity=\"1\" /><path clip-path=\"url(#clip660)\" d=\"M1032.16 1455.09 L1020.36 1473.54 L1032.16 1473.54 L1032.16 1455.09 M1030.94 1451.02 L1036.82 1451.02 L1036.82 1473.54 L1041.75 1473.54 L1041.75 1477.43 L1036.82 1477.43 L1036.82 1485.58 L1032.16 1485.58 L1032.16 1477.43 L1016.56 1477.43 L1016.56 1472.92 L1030.94 1451.02 Z\" fill=\"#000000\" fill-rule=\"nonzero\" fill-opacity=\"1\" /><path clip-path=\"url(#clip660)\" d=\"M1534.75 1466.44 Q1531.6 1466.44 1529.75 1468.59 Q1527.92 1470.74 1527.92 1474.49 Q1527.92 1478.22 1529.75 1480.39 Q1531.6 1482.55 1534.75 1482.55 Q1537.9 1482.55 1539.73 1480.39 Q1541.58 1478.22 1541.58 1474.49 Q1541.58 1470.74 1539.73 1468.59 Q1537.9 1466.44 1534.75 1466.44 M1544.03 1451.78 L1544.03 1456.04 Q1542.27 1455.21 1540.47 1454.77 Q1538.69 1454.33 1536.93 1454.33 Q1532.3 1454.33 1529.84 1457.45 Q1527.41 1460.58 1527.07 1466.9 Q1528.43 1464.89 1530.49 1463.82 Q1532.55 1462.73 1535.03 1462.73 Q1540.24 1462.73 1543.25 1465.9 Q1546.28 1469.05 1546.28 1474.49 Q1546.28 1479.82 1543.13 1483.03 Q1539.98 1486.25 1534.75 1486.25 Q1528.76 1486.25 1525.58 1481.67 Q1522.41 1477.06 1522.41 1468.33 Q1522.41 1460.14 1526.3 1455.28 Q1530.19 1450.39 1536.74 1450.39 Q1538.5 1450.39 1540.28 1450.74 Q1542.09 1451.09 1544.03 1451.78 Z\" fill=\"#000000\" fill-rule=\"nonzero\" fill-opacity=\"1\" /><path clip-path=\"url(#clip660)\" d=\"M2039.54 1469.17 Q2036.2 1469.17 2034.28 1470.95 Q2032.38 1472.73 2032.38 1475.86 Q2032.38 1478.98 2034.28 1480.77 Q2036.2 1482.55 2039.54 1482.55 Q2042.87 1482.55 2044.79 1480.77 Q2046.71 1478.96 2046.71 1475.86 Q2046.71 1472.73 2044.79 1470.95 Q2042.89 1469.17 2039.54 1469.17 M2034.86 1467.18 Q2031.85 1466.44 2030.16 1464.38 Q2028.5 1462.32 2028.5 1459.35 Q2028.5 1455.21 2031.44 1452.8 Q2034.4 1450.39 2039.54 1450.39 Q2044.7 1450.39 2047.64 1452.8 Q2050.58 1455.21 2050.58 1459.35 Q2050.58 1462.32 2048.89 1464.38 Q2047.22 1466.44 2044.24 1467.18 Q2047.62 1467.96 2049.49 1470.26 Q2051.39 1472.55 2051.39 1475.86 Q2051.39 1480.88 2048.31 1483.57 Q2045.26 1486.25 2039.54 1486.25 Q2033.82 1486.25 2030.74 1483.57 Q2027.69 1480.88 2027.69 1475.86 Q2027.69 1472.55 2029.58 1470.26 Q2031.48 1467.96 2034.86 1467.18 M2033.15 1459.79 Q2033.15 1462.48 2034.82 1463.98 Q2036.51 1465.49 2039.54 1465.49 Q2042.55 1465.49 2044.24 1463.98 Q2045.95 1462.48 2045.95 1459.79 Q2045.95 1457.11 2044.24 1455.6 Q2042.55 1454.1 2039.54 1454.1 Q2036.51 1454.1 2034.82 1455.6 Q2033.15 1457.11 2033.15 1459.79 Z\" fill=\"#000000\" fill-rule=\"nonzero\" fill-opacity=\"1\" /><path clip-path=\"url(#clip660)\" d=\"M1295.92 1528.8 Q1295.92 1530.61 1294.8 1531.64 Q1293.67 1532.64 1292.38 1532.64 Q1291.16 1532.64 1290.51 1531.93 Q1289.87 1531.22 1289.87 1530.32 Q1289.87 1529.09 1290.77 1528.03 Q1291.67 1526.97 1293.03 1526.74 Q1291.71 1525.91 1289.74 1525.91 Q1288.45 1525.91 1287.33 1526.58 Q1286.23 1527.26 1285.55 1528.13 Q1284.91 1529 1284.33 1530.25 Q1283.78 1531.48 1283.56 1532.22 Q1283.36 1532.93 1283.2 1533.7 L1280.95 1542.72 Q1279.85 1547 1279.85 1548.51 Q1279.85 1550.38 1280.76 1551.64 Q1281.66 1552.86 1283.46 1552.86 Q1284.17 1552.86 1284.97 1552.67 Q1285.78 1552.44 1286.81 1551.86 Q1287.87 1551.25 1288.81 1550.35 Q1289.77 1549.42 1290.71 1547.84 Q1291.64 1546.26 1292.25 1544.23 Q1292.45 1543.52 1293.09 1543.52 Q1293.9 1543.52 1293.9 1544.17 Q1293.9 1544.71 1293.44 1545.87 Q1293.03 1547 1292.09 1548.48 Q1291.19 1549.93 1290 1551.25 Q1288.81 1552.54 1287.04 1553.44 Q1285.26 1554.34 1283.33 1554.34 Q1280.56 1554.34 1278.73 1552.86 Q1276.89 1551.38 1276.21 1549.32 Q1276.05 1549.61 1275.83 1550 Q1275.6 1550.38 1274.93 1551.25 Q1274.28 1552.09 1273.54 1552.73 Q1272.8 1553.34 1271.64 1553.83 Q1270.51 1554.34 1269.29 1554.34 Q1267.74 1554.34 1266.36 1553.89 Q1265.01 1553.44 1264.04 1552.41 Q1263.07 1551.38 1263.07 1549.96 Q1263.07 1548.38 1264.14 1547.29 Q1265.23 1546.16 1266.71 1546.16 Q1267.65 1546.16 1268.39 1546.71 Q1269.16 1547.26 1269.16 1548.45 Q1269.16 1549.77 1268.26 1550.77 Q1267.36 1551.77 1266.07 1552.02 Q1267.39 1552.86 1269.35 1552.86 Q1271.48 1552.86 1273.15 1550.99 Q1274.83 1549.13 1275.63 1546 Q1277.63 1538.5 1278.4 1535.15 Q1279.18 1531.77 1279.18 1530.32 Q1279.18 1528.96 1278.82 1528.03 Q1278.47 1527.1 1277.86 1526.68 Q1277.28 1526.23 1276.73 1526.07 Q1276.21 1525.91 1275.63 1525.91 Q1274.67 1525.91 1273.57 1526.29 Q1272.51 1526.68 1271.22 1527.58 Q1269.97 1528.45 1268.77 1530.25 Q1267.58 1532.06 1266.78 1534.54 Q1266.62 1535.28 1265.91 1535.28 Q1265.14 1535.24 1265.14 1534.6 Q1265.14 1534.05 1265.55 1532.93 Q1266.01 1531.77 1266.91 1530.32 Q1267.84 1528.87 1269.03 1527.58 Q1270.26 1526.26 1272.03 1525.36 Q1273.83 1524.46 1275.76 1524.46 Q1276.63 1524.46 1277.47 1524.65 Q1278.34 1524.81 1279.37 1525.29 Q1280.43 1525.78 1281.37 1526.84 Q1282.3 1527.9 1282.88 1529.45 Q1283.27 1528.71 1283.78 1528 Q1284.33 1527.29 1285.17 1526.42 Q1286.04 1525.52 1287.23 1525 Q1288.45 1524.46 1289.81 1524.46 Q1291.13 1524.46 1292.41 1524.81 Q1293.7 1525.13 1294.8 1526.19 Q1295.92 1527.23 1295.92 1528.8 Z\" fill=\"#000000\" fill-rule=\"nonzero\" fill-opacity=\"1\" /><polyline clip-path=\"url(#clip660)\" style=\"stroke:#000000; stroke-linecap:round; stroke-linejoin:round; stroke-width:4; stroke-opacity:1; fill:none\" points=\"210.746,1423.18 210.746,47.2441 \"/>\n",
       "<polyline clip-path=\"url(#clip660)\" style=\"stroke:#000000; stroke-linecap:round; stroke-linejoin:round; stroke-width:4; stroke-opacity:1; fill:none\" points=\"210.746,1303.11 229.644,1303.11 \"/>\n",
       "<polyline clip-path=\"url(#clip660)\" style=\"stroke:#000000; stroke-linecap:round; stroke-linejoin:round; stroke-width:4; stroke-opacity:1; fill:none\" points=\"210.746,1086.77 229.644,1086.77 \"/>\n",
       "<polyline clip-path=\"url(#clip660)\" style=\"stroke:#000000; stroke-linecap:round; stroke-linejoin:round; stroke-width:4; stroke-opacity:1; fill:none\" points=\"210.746,870.426 229.644,870.426 \"/>\n",
       "<polyline clip-path=\"url(#clip660)\" style=\"stroke:#000000; stroke-linecap:round; stroke-linejoin:round; stroke-width:4; stroke-opacity:1; fill:none\" points=\"210.746,654.084 229.644,654.084 \"/>\n",
       "<polyline clip-path=\"url(#clip660)\" style=\"stroke:#000000; stroke-linecap:round; stroke-linejoin:round; stroke-width:4; stroke-opacity:1; fill:none\" points=\"210.746,437.742 229.644,437.742 \"/>\n",
       "<polyline clip-path=\"url(#clip660)\" style=\"stroke:#000000; stroke-linecap:round; stroke-linejoin:round; stroke-width:4; stroke-opacity:1; fill:none\" points=\"210.746,221.399 229.644,221.399 \"/>\n",
       "<path clip-path=\"url(#clip660)\" d=\"M114.631 1303.56 L144.306 1303.56 L144.306 1307.5 L114.631 1307.5 L114.631 1303.56 Z\" fill=\"#000000\" fill-rule=\"nonzero\" fill-opacity=\"1\" /><path clip-path=\"url(#clip660)\" d=\"M158.427 1316.45 L174.746 1316.45 L174.746 1320.39 L152.802 1320.39 L152.802 1316.45 Q155.464 1313.7 160.047 1309.07 Q164.653 1304.42 165.834 1303.08 Q168.079 1300.55 168.959 1298.82 Q169.862 1297.06 169.862 1295.37 Q169.862 1292.61 167.917 1290.88 Q165.996 1289.14 162.894 1289.14 Q160.695 1289.14 158.241 1289.9 Q155.811 1290.67 153.033 1292.22 L153.033 1287.5 Q155.857 1286.36 158.311 1285.78 Q160.765 1285.2 162.802 1285.2 Q168.172 1285.2 171.366 1287.89 Q174.561 1290.58 174.561 1295.07 Q174.561 1297.2 173.751 1299.12 Q172.964 1301.02 170.857 1303.61 Q170.278 1304.28 167.177 1307.5 Q164.075 1310.69 158.427 1316.45 Z\" fill=\"#000000\" fill-rule=\"nonzero\" fill-opacity=\"1\" /><path clip-path=\"url(#clip660)\" d=\"M114.26 1087.22 L143.936 1087.22 L143.936 1091.15 L114.26 1091.15 L114.26 1087.22 Z\" fill=\"#000000\" fill-rule=\"nonzero\" fill-opacity=\"1\" /><path clip-path=\"url(#clip660)\" d=\"M154.839 1100.11 L162.477 1100.11 L162.477 1073.75 L154.167 1075.41 L154.167 1071.15 L162.431 1069.49 L167.107 1069.49 L167.107 1100.11 L174.746 1100.11 L174.746 1104.05 L154.839 1104.05 L154.839 1100.11 Z\" fill=\"#000000\" fill-rule=\"nonzero\" fill-opacity=\"1\" /><path clip-path=\"url(#clip660)\" d=\"M162.802 856.224 Q159.19 856.224 157.362 859.789 Q155.556 863.331 155.556 870.461 Q155.556 877.567 157.362 881.132 Q159.19 884.673 162.802 884.673 Q166.436 884.673 168.241 881.132 Q170.07 877.567 170.07 870.461 Q170.07 863.331 168.241 859.789 Q166.436 856.224 162.802 856.224 M162.802 852.521 Q168.612 852.521 171.667 857.127 Q174.746 861.711 174.746 870.461 Q174.746 879.187 171.667 883.794 Q168.612 888.377 162.802 888.377 Q156.991 888.377 153.913 883.794 Q150.857 879.187 150.857 870.461 Q150.857 861.711 153.913 857.127 Q156.991 852.521 162.802 852.521 Z\" fill=\"#000000\" fill-rule=\"nonzero\" fill-opacity=\"1\" /><path clip-path=\"url(#clip660)\" d=\"M154.839 667.429 L162.477 667.429 L162.477 641.063 L154.167 642.73 L154.167 638.47 L162.431 636.804 L167.107 636.804 L167.107 667.429 L174.746 667.429 L174.746 671.364 L154.839 671.364 L154.839 667.429 Z\" fill=\"#000000\" fill-rule=\"nonzero\" fill-opacity=\"1\" /><path clip-path=\"url(#clip660)\" d=\"M158.427 451.086 L174.746 451.086 L174.746 455.022 L152.802 455.022 L152.802 451.086 Q155.464 448.332 160.047 443.702 Q164.653 439.049 165.834 437.707 Q168.079 435.184 168.959 433.448 Q169.862 431.688 169.862 429.999 Q169.862 427.244 167.917 425.508 Q165.996 423.772 162.894 423.772 Q160.695 423.772 158.241 424.536 Q155.811 425.3 153.033 426.85 L153.033 422.128 Q155.857 420.994 158.311 420.415 Q160.765 419.837 162.802 419.837 Q168.172 419.837 171.366 422.522 Q174.561 425.207 174.561 429.698 Q174.561 431.827 173.751 433.749 Q172.964 435.647 170.857 438.239 Q170.278 438.911 167.177 442.128 Q164.075 445.323 158.427 451.086 Z\" fill=\"#000000\" fill-rule=\"nonzero\" fill-opacity=\"1\" /><path clip-path=\"url(#clip660)\" d=\"M167.616 220.045 Q170.973 220.763 172.848 223.031 Q174.746 225.3 174.746 228.633 Q174.746 233.749 171.227 236.55 Q167.709 239.351 161.227 239.351 Q159.052 239.351 156.737 238.911 Q154.445 238.494 151.991 237.638 L151.991 233.124 Q153.936 234.258 156.251 234.837 Q158.565 235.416 161.089 235.416 Q165.487 235.416 167.778 233.68 Q170.093 231.943 170.093 228.633 Q170.093 225.578 167.94 223.865 Q165.811 222.129 161.991 222.129 L157.964 222.129 L157.964 218.286 L162.177 218.286 Q165.626 218.286 167.454 216.92 Q169.283 215.531 169.283 212.939 Q169.283 210.277 167.385 208.865 Q165.51 207.43 161.991 207.43 Q160.07 207.43 157.871 207.846 Q155.672 208.263 153.033 209.143 L153.033 204.976 Q155.695 204.235 158.01 203.865 Q160.348 203.494 162.408 203.494 Q167.732 203.494 170.834 205.925 Q173.936 208.332 173.936 212.453 Q173.936 215.323 172.292 217.314 Q170.649 219.281 167.616 220.045 Z\" fill=\"#000000\" fill-rule=\"nonzero\" fill-opacity=\"1\" /><path clip-path=\"url(#clip660)\" d=\"M30.8561 720.775 Q31.307 720.775 32.3698 721.064 L57.5548 727.377 Q63.1586 728.762 67.0877 733.27 Q71.0168 737.747 71.0168 742.836 Q71.0168 745.895 69.3743 747.86 Q67.764 749.824 65.2842 749.824 Q63.0942 749.824 62.0314 748.665 Q61.0008 747.505 61.0008 746.121 Q61.0008 745.67 61.1296 745.187 Q61.2584 744.703 61.8059 744.188 Q62.3534 743.673 63.2874 743.673 Q64.8011 743.673 65.9927 744.993 Q66.5402 745.637 66.669 746.249 Q66.7978 746.829 66.7978 747.827 Q67.6996 747.441 68.3115 746.732 Q68.9234 746.024 69.1489 745.219 Q69.4065 744.414 69.4709 743.898 Q69.5675 743.351 69.5675 742.836 Q69.5675 738.713 65.413 735.557 Q64.157 734.623 62.9009 733.947 Q61.6771 733.238 60.1634 732.723 Q58.682 732.208 57.8768 731.982 Q57.0717 731.725 55.2359 731.274 Q58.2311 734.269 58.2311 737.94 Q58.2311 739.486 57.8124 740.871 Q57.3937 742.224 56.5242 743.415 Q55.6224 744.607 54.0443 745.315 Q52.4662 745.992 50.3728 745.992 Q48.1506 745.992 45.1233 745.122 Q42.0959 744.253 36.5243 742.159 Q33.4004 741.032 31.8867 741.032 Q31.146 741.032 30.6951 741.193 Q30.212 741.354 30.051 741.676 Q29.8577 741.998 29.8255 742.191 Q29.7933 742.352 29.7933 742.675 Q29.7933 744.575 31.7257 746.346 Q33.658 748.117 37.9736 749.341 Q38.7787 749.599 38.972 749.76 Q39.1652 749.921 39.1652 750.404 Q39.133 751.209 38.4889 751.209 Q38.2312 751.209 37.2329 750.919 Q36.2023 750.629 34.6886 749.953 Q33.1427 749.245 31.7579 748.278 Q30.3408 747.312 29.3424 745.798 Q28.344 744.253 28.344 742.481 Q28.344 740.066 29.9221 738.584 Q31.468 737.071 33.7546 737.071 Q34.6886 737.071 35.5259 737.328 Q36.3311 737.554 38.4889 738.391 Q47.1845 741.773 51.4356 741.773 Q52.4662 741.773 53.3358 741.612 Q54.1731 741.418 55.0105 741 Q55.8156 740.581 56.2987 739.744 Q56.7496 738.874 56.7496 737.683 Q56.7496 736.169 56.0411 734.752 Q55.3003 733.303 54.302 732.401 Q53.3036 731.467 52.4662 730.919 Q51.5967 730.34 51.1458 730.211 L39.294 727.248 L34.0123 725.927 Q31.146 725.316 30.4374 725.026 Q29.7611 724.639 29.4068 723.963 Q29.0526 723.287 29.0526 722.707 Q29.0526 721.902 29.5357 721.354 Q30.0187 720.775 30.8561 720.775 Z\" fill=\"#000000\" fill-rule=\"nonzero\" fill-opacity=\"1\" /><polyline clip-path=\"url(#clip662)\" style=\"stroke:#009af9; stroke-linecap:round; stroke-linejoin:round; stroke-width:4; stroke-opacity:1; fill:none\" points=\"271.369,1384.24 276.584,1364.61 281.8,1345.19 287.015,1325.98 292.231,1306.97 307.504,1252.48 322.777,1199.7 338.05,1148.63 353.323,1099.23 368.597,1051.48 383.87,1005.36 399.143,960.842 414.416,917.904 428.626,879.352 442.836,842.128 457.047,806.212 471.257,771.585 490.304,727.159 509.351,684.968 528.398,644.966 547.445,607.105 563.183,577.404 578.922,549.107 594.66,522.189 610.399,496.623 625.034,474.039 639.67,452.581 654.305,432.228 668.941,412.959 687.313,390.27 705.685,369.215 724.058,349.751 742.43,331.836 758.91,317.051 775.391,303.449 791.871,291 808.351,279.674 827.215,268.051 846.078,257.814 864.942,248.92 883.806,241.323 912.007,232.287 940.209,225.898 958.244,223.131 976.279,221.346 994.314,220.504 1012.35,220.564 1045.27,222.875 1078.19,227.825 1115.66,236.364 1153.13,247.659 1182.83,258.336 1212.53,270.347 1286.33,304.827 1342.85,334.383 1422.54,378.147 1482.09,410.635 1515.95,428.413 1549.81,445.361 1583.34,461.07 1616.87,475.457 1653.76,489.455 1690.66,501.208 1718.84,508.464 1747.02,514.064 1782.57,518.534 1818.13,519.825 1834.58,519.264 1851.02,517.928 1867.47,515.788 1883.91,512.815 1900.87,508.843 1917.83,503.92 1934.79,498.013 1951.75,491.088 1968.94,482.999 1986.13,473.797 2003.32,463.448 2020.51,451.919 2038.46,438.583 2056.41,423.883 2074.36,407.782 2092.31,390.24 2106.45,375.381 2120.59,359.585 2134.73,342.832 2148.87,325.105 2164.98,303.708 2181.08,280.993 2197.18,256.934 2213.28,231.502 2229.38,204.668 2245.48,176.406 2261.58,146.686 2277.68,115.482 2281.29,108.273 2284.91,100.987 2288.52,93.6251 2292.13,86.1857 \"/>\n",
       "<circle clip-path=\"url(#clip662)\" cx=\"523.964\" cy=\"654.084\" r=\"14.4\" fill=\"#009af9\" fill-rule=\"evenodd\" fill-opacity=\"1\" stroke=\"#000000\" stroke-opacity=\"1\" stroke-width=\"3.2\"/>\n",
       "<circle clip-path=\"url(#clip662)\" cx=\"1534.35\" cy=\"437.742\" r=\"14.4\" fill=\"#009af9\" fill-rule=\"evenodd\" fill-opacity=\"1\" stroke=\"#000000\" stroke-opacity=\"1\" stroke-width=\"3.2\"/>\n",
       "<circle clip-path=\"url(#clip662)\" cx=\"1029.16\" cy=\"221.399\" r=\"14.4\" fill=\"#009af9\" fill-rule=\"evenodd\" fill-opacity=\"1\" stroke=\"#000000\" stroke-opacity=\"1\" stroke-width=\"3.2\"/>\n",
       "<circle clip-path=\"url(#clip662)\" cx=\"2039.54\" cy=\"437.742\" r=\"14.4\" fill=\"#009af9\" fill-rule=\"evenodd\" fill-opacity=\"1\" stroke=\"#000000\" stroke-opacity=\"1\" stroke-width=\"3.2\"/>\n",
       "<path clip-path=\"url(#clip660)\" d=\"M1888.23 1377.32 L2281.36 1377.32 L2281.36 1273.64 L1888.23 1273.64  Z\" fill=\"#ffffff\" fill-rule=\"evenodd\" fill-opacity=\"1\"/>\n",
       "<polyline clip-path=\"url(#clip660)\" style=\"stroke:#000000; stroke-linecap:round; stroke-linejoin:round; stroke-width:4; stroke-opacity:1; fill:none\" points=\"1888.23,1377.32 2281.36,1377.32 2281.36,1273.64 1888.23,1273.64 1888.23,1377.32 \"/>\n",
       "<polyline clip-path=\"url(#clip660)\" style=\"stroke:#009af9; stroke-linecap:round; stroke-linejoin:round; stroke-width:4; stroke-opacity:1; fill:none\" points=\"1912.03,1325.48 2054.83,1325.48 \"/>\n",
       "<path clip-path=\"url(#clip660)\" d=\"M2100.77 1317.98 Q2100.77 1318.31 2100.56 1319.08 L2095.97 1337.4 Q2094.96 1341.47 2091.68 1344.33 Q2088.42 1347.19 2084.72 1347.19 Q2082.5 1347.19 2081.07 1345.99 Q2079.64 1344.82 2079.64 1343.02 Q2079.64 1341.43 2080.48 1340.65 Q2081.33 1339.9 2082.33 1339.9 Q2082.66 1339.9 2083.01 1340 Q2083.36 1340.09 2083.74 1340.49 Q2084.11 1340.89 2084.11 1341.57 Q2084.11 1342.67 2083.15 1343.53 Q2082.68 1343.93 2082.24 1344.03 Q2081.82 1344.12 2081.09 1344.12 Q2081.37 1344.78 2081.89 1345.22 Q2082.4 1345.67 2082.99 1345.83 Q2083.57 1346.02 2083.95 1346.06 Q2084.35 1346.13 2084.72 1346.13 Q2087.72 1346.13 2090.02 1343.11 Q2090.7 1342.2 2091.19 1341.29 Q2091.7 1340.4 2092.08 1339.29 Q2092.45 1338.22 2092.62 1337.63 Q2092.8 1337.05 2093.13 1335.71 Q2090.95 1337.89 2088.28 1337.89 Q2087.16 1337.89 2086.15 1337.58 Q2085.17 1337.28 2084.3 1336.65 Q2083.43 1335.99 2082.92 1334.84 Q2082.43 1333.7 2082.43 1332.17 Q2082.43 1330.56 2083.06 1328.36 Q2083.69 1326.15 2085.21 1322.1 Q2086.03 1319.83 2086.03 1318.73 Q2086.03 1318.19 2085.92 1317.86 Q2085.8 1317.51 2085.57 1317.39 Q2085.33 1317.25 2085.19 1317.23 Q2085.07 1317.21 2084.84 1317.21 Q2083.46 1317.21 2082.17 1318.61 Q2080.88 1320.02 2079.99 1323.16 Q2079.8 1323.74 2079.69 1323.88 Q2079.57 1324.02 2079.22 1324.02 Q2078.63 1324 2078.63 1323.53 Q2078.63 1323.34 2078.84 1322.62 Q2079.05 1321.87 2079.55 1320.77 Q2080.06 1319.64 2080.76 1318.64 Q2081.47 1317.61 2082.57 1316.88 Q2083.69 1316.15 2084.98 1316.15 Q2086.74 1316.15 2087.81 1317.3 Q2088.91 1318.42 2088.91 1320.09 Q2088.91 1320.77 2088.73 1321.38 Q2088.56 1321.96 2087.95 1323.53 Q2085.5 1329.86 2085.5 1332.95 Q2085.5 1333.7 2085.61 1334.33 Q2085.75 1334.94 2086.06 1335.55 Q2086.36 1336.13 2086.97 1336.48 Q2087.6 1336.81 2088.47 1336.81 Q2089.57 1336.81 2090.6 1336.3 Q2091.66 1335.76 2092.31 1335.03 Q2092.99 1334.31 2093.39 1333.7 Q2093.81 1333.06 2093.9 1332.74 L2096.06 1324.12 L2097.02 1320.28 Q2097.46 1318.19 2097.67 1317.68 Q2097.96 1317.18 2098.45 1316.93 Q2098.94 1316.67 2099.36 1316.67 Q2099.95 1316.67 2100.35 1317.02 Q2100.77 1317.37 2100.77 1317.98 Z\" fill=\"#000000\" fill-rule=\"nonzero\" fill-opacity=\"1\" /><path clip-path=\"url(#clip660)\" d=\"M2115.2 1330.07 Q2115.25 1329.48 2116.16 1329.48 L2145.56 1329.48 Q2146.94 1329.48 2146.96 1330.02 Q2146.96 1330.6 2145.65 1330.58 L2116.49 1330.58 Q2115.2 1330.6 2115.2 1330.07 M2115.2 1320.7 Q2115.2 1320.11 2116.21 1320.13 L2145.51 1320.13 Q2146.94 1320.13 2146.96 1320.7 Q2146.96 1321.24 2145.74 1321.24 L2116.16 1321.24 Q2115.2 1321.24 2115.2 1320.7 Z\" fill=\"#000000\" fill-rule=\"nonzero\" fill-opacity=\"1\" /><path clip-path=\"url(#clip660)\" d=\"M2190.51 1323.81 Q2190.51 1327.23 2188.78 1330.53 Q2187.07 1333.84 2184.38 1335.87 Q2181.68 1337.89 2178.94 1337.89 Q2177.3 1337.89 2176.2 1337 Q2175.13 1336.09 2174.54 1334.8 Q2174.09 1336.39 2173.13 1340.21 Q2172.17 1344.03 2172.17 1344.4 Q2172.17 1344.61 2172.22 1344.7 Q2172.27 1344.8 2172.48 1344.92 Q2172.69 1345.06 2173.2 1345.1 Q2173.72 1345.17 2174.59 1345.17 Q2175.03 1345.17 2175.2 1345.17 Q2175.38 1345.2 2175.55 1345.31 Q2175.73 1345.43 2175.73 1345.69 Q2175.73 1346.65 2174.87 1346.65 Q2174.09 1346.65 2172.5 1346.58 Q2170.91 1346.51 2170.11 1346.51 Q2169.43 1346.51 2168.08 1346.58 Q2166.72 1346.65 2166.08 1346.65 Q2165.45 1346.65 2165.45 1346.09 Q2165.45 1345.76 2165.55 1345.55 Q2165.62 1345.36 2165.8 1345.27 Q2165.99 1345.2 2166.15 1345.17 Q2166.3 1345.17 2166.58 1345.17 Q2167.65 1345.17 2168.12 1344.99 Q2168.59 1344.82 2168.75 1344.47 Q2168.94 1344.14 2169.15 1343.21 L2174.54 1321.84 Q2174.87 1320.42 2174.87 1319.41 Q2174.87 1318.14 2174.47 1317.68 Q2174.07 1317.21 2173.37 1317.21 Q2172.15 1317.21 2171.35 1318.66 Q2170.56 1320.11 2169.88 1322.92 Q2169.67 1323.7 2169.53 1323.86 Q2169.41 1324.02 2169.06 1324.02 Q2168.47 1324 2168.47 1323.53 Q2168.47 1323.41 2168.66 1322.66 Q2168.85 1321.89 2169.2 1320.77 Q2169.57 1319.62 2169.97 1318.89 Q2170.21 1318.4 2170.42 1318.07 Q2170.63 1317.75 2171.05 1317.23 Q2171.49 1316.72 2172.13 1316.43 Q2172.76 1316.15 2173.53 1316.15 Q2175.03 1316.15 2176.27 1317.04 Q2177.51 1317.93 2177.84 1319.74 Q2179.18 1318.17 2180.82 1317.16 Q2182.46 1316.15 2184.12 1316.15 Q2186.88 1316.15 2188.69 1318.31 Q2190.51 1320.44 2190.51 1323.81 M2187.05 1321.7 Q2187.05 1319.57 2186.23 1318.4 Q2185.43 1317.21 2183.98 1317.21 Q2182.18 1317.21 2180.09 1319.03 Q2178.03 1320.77 2177.61 1322.38 L2175.24 1331.78 L2175.1 1332.55 Q2175.1 1332.69 2175.17 1333.11 Q2175.27 1333.51 2175.52 1334.16 Q2175.8 1334.82 2176.18 1335.41 Q2176.58 1335.97 2177.28 1336.39 Q2178.01 1336.81 2178.9 1336.81 Q2180.33 1336.81 2181.87 1335.55 Q2183.44 1334.28 2184.61 1331.89 Q2185.34 1330.35 2186.18 1327.02 Q2187.05 1323.67 2187.05 1321.7 Z\" fill=\"#000000\" fill-rule=\"nonzero\" fill-opacity=\"1\" /><path clip-path=\"url(#clip660)\" d=\"M2195.87 1325.36 Q2195.87 1317.25 2198.89 1310.72 Q2200.18 1307.98 2201.98 1305.68 Q2203.79 1303.39 2204.98 1302.38 Q2206.17 1301.37 2206.5 1301.37 Q2206.97 1301.37 2206.99 1301.84 Q2206.99 1302.08 2206.36 1302.66 Q2198.63 1310.53 2198.66 1325.36 Q2198.66 1340.23 2206.17 1347.8 Q2206.99 1348.62 2206.99 1348.87 Q2206.99 1349.34 2206.5 1349.34 Q2206.17 1349.34 2205.03 1348.38 Q2203.88 1347.42 2202.1 1345.22 Q2200.32 1343.02 2199.03 1340.32 Q2195.87 1333.79 2195.87 1325.36 Z\" fill=\"#000000\" fill-rule=\"nonzero\" fill-opacity=\"1\" /><path clip-path=\"url(#clip660)\" d=\"M2234.53 1319.32 Q2234.53 1320.63 2233.71 1321.38 Q2232.89 1322.1 2231.95 1322.1 Q2231.06 1322.1 2230.59 1321.59 Q2230.12 1321.07 2230.12 1320.42 Q2230.12 1319.53 2230.78 1318.75 Q2231.44 1317.98 2232.42 1317.82 Q2231.46 1317.21 2230.03 1317.21 Q2229.09 1317.21 2228.27 1317.7 Q2227.48 1318.19 2226.99 1318.82 Q2226.52 1319.46 2226.1 1320.37 Q2225.7 1321.26 2225.53 1321.8 Q2225.39 1322.31 2225.28 1322.88 L2223.64 1329.43 Q2222.84 1332.55 2222.84 1333.65 Q2222.84 1335.01 2223.5 1335.92 Q2224.15 1336.81 2225.46 1336.81 Q2225.98 1336.81 2226.56 1336.67 Q2227.15 1336.51 2227.9 1336.09 Q2228.67 1335.64 2229.35 1334.98 Q2230.05 1334.31 2230.73 1333.16 Q2231.41 1332.01 2231.86 1330.53 Q2232 1330.02 2232.47 1330.02 Q2233.05 1330.02 2233.05 1330.49 Q2233.05 1330.89 2232.72 1331.73 Q2232.42 1332.55 2231.74 1333.63 Q2231.08 1334.68 2230.22 1335.64 Q2229.35 1336.58 2228.06 1337.23 Q2226.77 1337.89 2225.37 1337.89 Q2223.35 1337.89 2222.02 1336.81 Q2220.68 1335.73 2220.19 1334.24 Q2220.08 1334.45 2219.91 1334.73 Q2219.75 1335.01 2219.26 1335.64 Q2218.79 1336.25 2218.25 1336.72 Q2217.71 1337.16 2216.87 1337.51 Q2216.05 1337.89 2215.16 1337.89 Q2214.03 1337.89 2213.03 1337.56 Q2212.04 1337.23 2211.34 1336.48 Q2210.64 1335.73 2210.64 1334.7 Q2210.64 1333.56 2211.41 1332.76 Q2212.21 1331.94 2213.28 1331.94 Q2213.96 1331.94 2214.5 1332.34 Q2215.06 1332.74 2215.06 1333.6 Q2215.06 1334.56 2214.41 1335.29 Q2213.75 1336.02 2212.81 1336.2 Q2213.78 1336.81 2215.2 1336.81 Q2216.75 1336.81 2217.97 1335.45 Q2219.19 1334.09 2219.77 1331.82 Q2221.22 1326.37 2221.79 1323.93 Q2222.35 1321.47 2222.35 1320.42 Q2222.35 1319.43 2222.09 1318.75 Q2221.83 1318.07 2221.39 1317.77 Q2220.97 1317.44 2220.57 1317.32 Q2220.19 1317.21 2219.77 1317.21 Q2219.07 1317.21 2218.27 1317.49 Q2217.5 1317.77 2216.56 1318.42 Q2215.65 1319.06 2214.78 1320.37 Q2213.92 1321.68 2213.33 1323.48 Q2213.21 1324.02 2212.7 1324.02 Q2212.14 1324 2212.14 1323.53 Q2212.14 1323.13 2212.44 1322.31 Q2212.77 1321.47 2213.42 1320.42 Q2214.1 1319.36 2214.97 1318.42 Q2215.86 1317.46 2217.15 1316.81 Q2218.46 1316.15 2219.86 1316.15 Q2220.5 1316.15 2221.11 1316.29 Q2221.74 1316.41 2222.49 1316.76 Q2223.26 1317.11 2223.94 1317.89 Q2224.62 1318.66 2225.04 1319.78 Q2225.32 1319.24 2225.7 1318.73 Q2226.1 1318.21 2226.7 1317.58 Q2227.34 1316.93 2228.2 1316.55 Q2229.09 1316.15 2230.08 1316.15 Q2231.04 1316.15 2231.97 1316.41 Q2232.91 1316.64 2233.71 1317.42 Q2234.53 1318.17 2234.53 1319.32 Z\" fill=\"#000000\" fill-rule=\"nonzero\" fill-opacity=\"1\" /><path clip-path=\"url(#clip660)\" d=\"M2239.14 1348.87 Q2239.14 1348.64 2239.75 1348.05 Q2247.48 1340.18 2247.48 1325.36 Q2247.48 1310.48 2240.05 1302.97 Q2239.14 1302.1 2239.14 1301.84 Q2239.14 1301.37 2239.61 1301.37 Q2239.94 1301.37 2241.08 1302.33 Q2242.26 1303.29 2244.01 1305.5 Q2245.79 1307.7 2247.1 1310.39 Q2250.27 1316.93 2250.27 1325.36 Q2250.27 1333.46 2247.24 1340 Q2245.96 1342.74 2244.15 1345.03 Q2242.35 1347.33 2241.15 1348.34 Q2239.96 1349.34 2239.61 1349.34 Q2239.14 1349.34 2239.14 1348.87 Z\" fill=\"#000000\" fill-rule=\"nonzero\" fill-opacity=\"1\" /></svg>\n"
      ]
     },
     "execution_count": 17,
     "metadata": {},
     "output_type": "execute_result"
    }
   ],
   "source": [
    "using Plots, LaTeXStrings\n",
    "\n",
    "a, b = 1, 9\n",
    "\n",
    "plot(legend=:bottomright, xlabel=L\"x\", ylabel=L\"y\")\n",
    "plot!(p, a, b, label=L\"y = p(x)\")\n",
    "scatter!(xx, yy, label=:none, c=1)"
   ]
  },
  {
   "cell_type": "markdown",
   "metadata": {},
   "source": [
    "---"
   ]
  },
  {
   "cell_type": "markdown",
   "metadata": {},
   "source": [
    "> ## Theorem: (Divided Differences and Newton's Form)\n",
    ">\n",
    "> Given the data points $\\left\\{(x_i,y_i)\\right\\}_{i=0}^n$, where $y_i = f(x_i)$, the Newton form of the interpolating polynomial can be written as:\n",
    ">\n",
    "> $$p(x) = \\sum_{j=0}^n \\left( f[x_0,\\ldots,x_j] \\prod_{i=0}^{j-1}(x-x_i) \\right),$$\n",
    ">\n",
    "> where the divided differences are defined recursively by\n",
    ">\n",
    "> $$f[x_i] = f(x_i), \\qquad \\text{for } 1\\leq i \\leq n,$$\n",
    ">\n",
    "> and\n",
    ">\n",
    "> $$f[x_i,\\ldots,x_j] = \\frac{f[x_{i+1},\\ldots,x_j] - f[x_i,\\ldots,x_{j-1}]}{x_j - x_i}, \\qquad \\text{for } 1\\leq i < j \\leq n.$$"
   ]
  },
  {
   "cell_type": "markdown",
   "metadata": {},
   "source": [
    "## Proof:\n",
    "\n",
    "We will prove this fact by induction on $n$. When $n=1$, we are interpolating the data points $(x_0, f(x_0))$ and $(x_1, f(x_1))$ using the basis\n",
    "\n",
    "$$\n",
    "\\begin{align}\n",
    "\\phi_0(x) & = 1, \\\\\n",
    "\\phi_1(x) & = (x-x_0). \\\\\n",
    "\\end{align}\n",
    "$$\n",
    "\n",
    "Thus we want to find $c_0$ and $c_1$ such that the polynomial\n",
    "\n",
    "$$p(x) = c_0 + c_1 (x-x_0)$$\n",
    "\n",
    "satisfies $p(x_0) = f(x_0)$ and $p(x_1) = f(x_1)$. This gives us the following linear system.\n",
    "\n",
    "$$\n",
    "\\begin{matrix}\n",
    "c_0 & &                 &=& f(x_0) \\\\\n",
    "c_0 &+& (x_1 - x_0) c_1 &=& f(x_1) \\\\\n",
    "\\end{matrix}\n",
    "$$\n",
    "\n",
    "Thus,\n",
    "\n",
    "$$c_0 = f(x_0) = f[x_0], \\qquad \\text{and} \\qquad c_1 = \\frac{f(x_1)-f(x_0)}{x_1-x_0} = \\frac{f[x_1]-f[x_0]}{x_1-x_0} = f[x_0,x_1],$$\n",
    "\n",
    "as required."
   ]
  },
  {
   "cell_type": "markdown",
   "metadata": {},
   "source": [
    "Now we suppose the result is true for $n = k$, and we will prove that this implies the result is true for $n = k+1$. \n",
    "\n",
    "Let $p(x)$ be the unique polynomial of degree at most $k+1$ that interpolates the $k+2$ points $(x_0, f(x_0)), \\ldots, (x_{k+1}, f(x_{k+1}))$. \n",
    "\n",
    "Let $q_0(x)$ be the unique polynomial of degree at most $k$ that interpolates the first $k+1$ points $(x_0, f(x_0)), \\ldots, (x_{k}, f(x_{k}))$.\n",
    "\n",
    "Let $q_1(x)$ be the unique polynomial of degree at most $k$ that interpolates the last $k+1$ points $(x_1, f(x_1)), \\ldots, (x_{k+1}, f(x_{k+1}))$. \n",
    "\n",
    "By the induction assumption, we have\n",
    "\n",
    "$$\n",
    "q_0(x) = \\sum_{j=0}^{k} \\left( f[x_0,\\ldots,x_j] \\prod_{i=0}^{j-1}(x-x_i) \\right)\n",
    "$$\n",
    "and\n",
    "$$\n",
    "q_1(x) = \\sum_{j=1}^{k+1} \\left( f[x_1,\\ldots,x_j] \\prod_{i=1}^{j-1}(x-x_i) \\right).\n",
    "$$"
   ]
  },
  {
   "cell_type": "markdown",
   "metadata": {},
   "source": [
    "To obtain $p(x)$ we just need to add to $q_0(x)$ a multiple of the basis polynomial $\\prod_{i=0}^k (x-x_i)$:\n",
    "\n",
    "$$p(x) = q_0(x) + c_{k+1} \\prod_{i=0}^k (x-x_i).$$\n",
    "\n",
    "If $c_{k+1}$ satisfies\n",
    "\n",
    "$$f(x_{k+1}) = q_0(x_{k+1}) + c_{k+1} \\prod_{i=0}^k (x_{k+1}-x_i),$$\n",
    "\n",
    "then $p(x)$ will interpolate $(x_0, f(x_0)), \\ldots, (x_{k+1}, f(x_{k+1}))$."
   ]
  },
  {
   "cell_type": "markdown",
   "metadata": {},
   "source": [
    "In a similar way, we can add to $q_1(x)$ a multiple of the basis polynomial $\\prod_{i=1}^{k+1} (x-x_i)$ to obtain $p(x)$. Thus,\n",
    "\n",
    "$$p(x) = q_1(x) + c_{k+1}' \\prod_{i=1}^{k+1} (x-x_i),$$\n",
    "\n",
    "where $c_{k+1}'$ satisfies\n",
    "\n",
    "$$f(x_0) = q_1(x_0) + c_{k+1}' \\prod_{i=1}^{k+1} (x_0-x_i).$$\n"
   ]
  },
  {
   "cell_type": "markdown",
   "metadata": {},
   "source": [
    "Now we have that \n",
    "\n",
    "$$q_0(x) + c_{k+1} \\prod_{i=0}^k (x-x_i) = q_1(x) + c_{k+1}' \\prod_{i=1}^{k+1} (x-x_i).$$\n",
    "\n",
    "Thus\n",
    "\n",
    "$$\n",
    "\\frac{d^{k+1}}{dx^{k+1}}\\left(q_0(x) + c_{k+1} \\prod_{i=0}^k (x-x_i)\\right) = \n",
    "\\frac{d^{k+1}}{dx^{k+1}}\\left(q_1(x) + c_{k+1}' \\prod_{i=1}^{k+1} (x-x_i)\\right).\n",
    "$$\n",
    "\n",
    "Since $q_0(x)$ and $q_1(x)$ have degree at most $k$, and \n",
    "\n",
    "$$\n",
    "\\prod_{i=0}^k (x-x_i) = x^{k+1} + \\cdots\n",
    "\\qquad\n",
    "\\text{and}\n",
    "\\qquad\n",
    "\\prod_{i=1}^{k+1} (x-x_i) = x^{k+1} + \\cdots,\n",
    "$$\n",
    "\n",
    "we have \n",
    "\n",
    "$$0 + c_{k+1}(k+1)! = 0 + c_{k+1}'(k+1)!,$$\n",
    "\n",
    "which implies $c_{k+1} = c_{k+1}'$.\n",
    "\n",
    "\n",
    "\n",
    "Thus we have\n",
    "\n",
    "$$\n",
    "q_0(x) + c_{k+1} \\prod_{i=0}^k (x-x_i) = \n",
    "q_1(x) + c_{k+1} \\prod_{i=1}^{k+1} (x-x_i).\n",
    "$$"
   ]
  },
  {
   "cell_type": "markdown",
   "metadata": {},
   "source": [
    "---\n",
    "\n",
    "Example ($k+1 = 3$)\n",
    "\n",
    "$$\n",
    "\\frac{d^3}{dx^3}(x^3) = \\frac{d^2}{dx^2}(3x^2) = \\frac{d}{dx}(6x) = 6 = 3!.\n",
    "$$\n",
    "\n",
    "---"
   ]
  },
  {
   "cell_type": "markdown",
   "metadata": {},
   "source": [
    "Now consider \n",
    "\n",
    "$$\n",
    "\\frac{d^k}{dx^k}\\left(q_0(x) + c_{k+1} \\prod_{i=0}^k (x-x_i)\\right) = \n",
    "\\frac{d^k}{dx^k}\\left(q_1(x) + c_{k+1} \\prod_{i=1}^{k+1} (x-x_i)\\right).\n",
    "$$\n",
    "\n",
    "Note that\n",
    "\n",
    "$$\n",
    "q_0(x) = f[x_0,\\ldots,x_k] x^k + \\cdots\n",
    "\\quad \\text{and} \\quad\n",
    "q_1(x) = f[x_1,\\ldots,x_{k+1}] x^k + \\cdots.\n",
    "$$\n",
    "\n",
    "Also,\n",
    "\n",
    "$$\n",
    "\\prod_{i=0}^k (x-x_i) = x^{k+1} - x^{k}\\sum_{i=0}^k x_i + \\cdots\n",
    "\\quad \\text{and} \\quad\n",
    "\\prod_{i=1}^{k+1} (x-x_i) = x^{k+1} - x^{k}\\sum_{i=1}^{k+1} x_i + \\cdots.\n",
    "$$"
   ]
  },
  {
   "cell_type": "markdown",
   "metadata": {},
   "source": [
    "Thus,\n",
    "\n",
    "$$\n",
    "k! f[x_0,\\ldots,x_k] + c_{k+1} \\left((k+1)!x - k! \\sum_{i=0}^k x_i\\right)\n",
    "= k! f[x_1,\\ldots,x_{k+1}] + c_{k+1} \\left((k+1)!x - k! \\sum_{i=1}^{k+1} x_i\\right).\n",
    "$$\n",
    "\n",
    "Dividing by $k!$, and rearranging, we have\n",
    "\n",
    "$$\n",
    "c_{k+1} \\left((k+1)x - \\sum_{i=0}^k x_i\\right) - c_{k+1} \\left((k+1)x - \\sum_{i=1}^{k+1} x_i\\right) =\n",
    "f[x_1,\\ldots,x_{k+1}] - f[x_0,\\ldots,x_k].\n",
    "$$\n",
    "\n",
    "Canceling common terms, we have\n",
    "\n",
    "$$\n",
    "c_{k+1} \\left(\\sum_{i=1}^{k+1} x_i - \\sum_{i=0}^k x_i\\right) =\n",
    "f[x_1,\\ldots,x_{k+1}] - f[x_0,\\ldots,x_k],\n",
    "$$\n",
    "\n",
    "which becomes\n",
    "\n",
    "$$\n",
    "c_{k+1} \\left(x_{k+1} - x_0\\right) =\n",
    "f[x_1,\\ldots,x_{k+1}] - f[x_0,\\ldots,x_k].\n",
    "$$\n",
    "\n",
    "Finally,\n",
    "\n",
    "$$\n",
    "c_{k+1} =\n",
    "\\frac{f[x_1,\\ldots,x_{k+1}] - f[x_0,\\ldots,x_k]}{x_{k+1} - x_0} = f[x_0,\\ldots,x_{k+1}].\n",
    "$$\n",
    "\n",
    "Therefore,\n",
    "\n",
    "$$p(x) = q_0(x) + c_{k+1} \\prod_{i=0}^k (x-x_i) = \\sum_{j=0}^{k+1} \\left( f[x_0,\\ldots,x_j] \\prod_{i=0}^{j-1}(x-x_i) \\right),$$\n",
    "\n",
    "as required. $\\blacksquare$\n"
   ]
  },
  {
   "cell_type": "markdown",
   "metadata": {},
   "source": [
    "---"
   ]
  },
  {
   "cell_type": "markdown",
   "metadata": {},
   "source": [
    "## Pros and cons of Newton interpolation\n",
    "\n",
    "Pros:\n",
    "\n",
    "1. **Constructing $p(x)$ is fast**: roughly $\\frac32n^2$ flops to compute the coefficients\n",
    "2. **Evaluating $p(x)$ is fast**: about $3n$ flops to compute $p(x)$ compared to $2n$ flops using Horner's Rule\n",
    "3. **Adding a new interpolation point is fast**: table of divided differences can be updated in $\\mathcal{O}(n)$ flops\n",
    "4. **Can be extended to also interpolate derivative values** (Section 10.7)\n",
    "\n",
    "Cons:\n",
    "\n",
    "4. **Cannot easily change the function**: the entire table of divided differences changes when using a different function $f$\n"
   ]
  },
  {
   "cell_type": "markdown",
   "metadata": {},
   "source": [
    "---"
   ]
  }
 ],
 "metadata": {
  "kernelspec": {
   "display_name": "Julia 1.11.3",
   "language": "julia",
   "name": "julia-1.11"
  },
  "language_info": {
   "file_extension": ".jl",
   "mimetype": "application/julia",
   "name": "julia",
   "version": "1.11.3"
  }
 },
 "nbformat": 4,
 "nbformat_minor": 4
}
